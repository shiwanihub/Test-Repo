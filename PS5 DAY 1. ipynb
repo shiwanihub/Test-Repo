{
 "cells": [
  {
   "cell_type": "code",
   "execution_count": 1,
   "id": "ed9a4ba2-408d-4534-98fe-522825de5465",
   "metadata": {},
   "outputs": [
    {
     "name": "stdout",
     "output_type": "stream",
     "text": [
      "Length of the string: 13\n"
     ]
    }
   ],
   "source": [
    "input_string = \"Hello, World!\"\n",
    "string_length = len(input_string)\n",
    "print(\"Length of the string:\", string_length)\n"
   ]
  },
  {
   "cell_type": "code",
   "execution_count": 2,
   "id": "d6c33371-1f33-4e29-b429-d72686cf9415",
   "metadata": {},
   "outputs": [
    {
     "name": "stdout",
     "output_type": "stream",
     "text": [
      "Reversed words in the string: World! Hello,\n"
     ]
    }
   ],
   "source": [
    "words = input_string.split()  \n",
    "reversed_string = ' '.join(reversed(words))  \n",
    "print(\"Reversed words in the string:\", reversed_string)"
   ]
  },
  {
   "cell_type": "code",
   "execution_count": 3,
   "id": "10acab6b-fcd9-4c8c-8f2a-5e30afc22574",
   "metadata": {},
   "outputs": [
    {
     "name": "stdout",
     "output_type": "stream",
     "text": [
      "String repeated 3 times: Hello, World!Hello, World!Hello, World!\n"
     ]
    }
   ],
   "source": [
    "times = 3  \n",
    "string_multiple_times = input_string * times\n",
    "print(\"String repeated\", times, \"times:\", string_multiple_times)"
   ]
  },
  {
   "cell_type": "code",
   "execution_count": 4,
   "id": "16a2aaaf-8b72-45d7-84e1-dd5521248332",
   "metadata": {},
   "outputs": [
    {
     "name": "stdout",
     "output_type": "stream",
     "text": [
      "Concatenated string: Hello, World!\n"
     ]
    }
   ],
   "source": [
    "str1 = \"Hello, \"\n",
    "str2 = \"World!\"\n",
    "concatenated_string = str1 + str2\n",
    "print(\"Concatenated string:\", concatenated_string)"
   ]
  },
  {
   "cell_type": "code",
   "execution_count": 5,
   "id": "f9320368-ed6c-4840-bd04-5a4ec96e1eab",
   "metadata": {},
   "outputs": [
    {
     "name": "stdout",
     "output_type": "stream",
     "text": [
      "Substring using slicing: India\n"
     ]
    }
   ],
   "source": [
    "str3 = \"South India\"\n",
    "substring = str3[6:]\n",
    "print(\"Substring using slicing:\", substring)"
   ]
  }
 ],
 "metadata": {
  "kernelspec": {
   "display_name": "Python 3 (ipykernel)",
   "language": "python",
   "name": "python3"
  },
  "language_info": {
   "codemirror_mode": {
    "name": "ipython",
    "version": 3
   },
   "file_extension": ".py",
   "mimetype": "text/x-python",
   "name": "python",
   "nbconvert_exporter": "python",
   "pygments_lexer": "ipython3",
   "version": "3.11.5"
  }
 },
 "nbformat": 4,
 "nbformat_minor": 5
}
