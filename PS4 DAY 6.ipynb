{
 "cells": [
  {
   "cell_type": "code",
   "execution_count": 1,
   "id": "8021bf17-bb41-45df-ad4b-f44096323503",
   "metadata": {},
   "outputs": [
    {
     "name": "stdout",
     "output_type": "stream",
     "text": [
      "John Doe (FT123) Salary: $5000.0\n",
      "Jane Smith (PT456) Salary: $2400.0\n"
     ]
    }
   ],
   "source": [
    "class Employee:\n",
    "    def __init__(self, name, employee_id):\n",
    "        self._name = name\n",
    "        self._employee_id = employee_id\n",
    "        self._salary = 0.0\n",
    "\n",
    "    def get_name(self):\n",
    "        return self._name\n",
    "\n",
    "    def set_name(self, name):\n",
    "        self._name = name\n",
    "\n",
    "    def get_employee_id(self):\n",
    "        return self._employee_id\n",
    "\n",
    "    def set_employee_id(self, employee_id):\n",
    "        self._employee_id = employee_id\n",
    "\n",
    "    def calculate_salary(self):\n",
    "        pass  # To be overridden in subclasses\n",
    "\n",
    "\n",
    "class FullTimeEmployee(Employee):\n",
    "    def __init__(self, name, employee_id, annual_salary):\n",
    "        super().__init__(name, employee_id)\n",
    "        self._annual_salary = annual_salary\n",
    "\n",
    "    def get_annual_salary(self):\n",
    "        return self._annual_salary\n",
    "\n",
    "    def set_annual_salary(self, annual_salary):\n",
    "        self._annual_salary = annual_salary\n",
    "\n",
    "    def calculate_salary(self):\n",
    "        return self._annual_salary / 12  # Monthly salary for full-time employees\n",
    "\n",
    "\n",
    "class PartTimeEmployee(Employee):\n",
    "    def __init__(self, name, employee_id, hours_worked, hourly_rate):\n",
    "        super().__init__(name, employee_id)\n",
    "        self._hours_worked = hours_worked\n",
    "        self._hourly_rate = hourly_rate\n",
    "\n",
    "    def get_hours_worked(self):\n",
    "        return self._hours_worked\n",
    "\n",
    "    def set_hours_worked(self, hours_worked):\n",
    "        self._hours_worked = hours_worked\n",
    "\n",
    "    def get_hourly_rate(self):\n",
    "        return self._hourly_rate\n",
    "\n",
    "    def set_hourly_rate(self, hourly_rate):\n",
    "        self._hourly_rate = hourly_rate\n",
    "\n",
    "    def calculate_salary(self):\n",
    "        return self._hours_worked * self._hourly_rate  # Monthly salary for part-time employees\n",
    "\n",
    "\n",
    "# Demonstration\n",
    "if __name__ == \"__main__\":\n",
    "    full_time_employee = FullTimeEmployee(\"John Doe\", \"FT123\", 60000.0)\n",
    "    part_time_employee = PartTimeEmployee(\"Jane Smith\", \"PT456\", 160, 15.0)\n",
    "\n",
    "    print(f\"{full_time_employee.get_name()} ({full_time_employee.get_employee_id()}) Salary: ${full_time_employee.calculate_salary()}\")\n",
    "    print(f\"{part_time_employee.get_name()} ({part_time_employee.get_employee_id()}) Salary: ${part_time_employee.calculate_salary()}\")\n"
   ]
  },
  {
   "cell_type": "code",
   "execution_count": null,
   "id": "586826d9-40d5-4a4a-ab13-d40ddbee0c16",
   "metadata": {},
   "outputs": [],
   "source": []
  }
 ],
 "metadata": {
  "kernelspec": {
   "display_name": "Python 3 (ipykernel)",
   "language": "python",
   "name": "python3"
  },
  "language_info": {
   "codemirror_mode": {
    "name": "ipython",
    "version": 3
   },
   "file_extension": ".py",
   "mimetype": "text/x-python",
   "name": "python",
   "nbconvert_exporter": "python",
   "pygments_lexer": "ipython3",
   "version": "3.11.5"
  }
 },
 "nbformat": 4,
 "nbformat_minor": 5
}
