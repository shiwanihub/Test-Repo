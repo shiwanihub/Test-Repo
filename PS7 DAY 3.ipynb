{
 "cells": [
  {
   "cell_type": "code",
   "execution_count": 2,
   "id": "5bcd24ab-25f7-419c-a1f2-558d116a9167",
   "metadata": {},
   "outputs": [
    {
     "name": "stdout",
     "output_type": "stream",
     "text": [
      "Input file 'input.txt' not found.\n"
     ]
    }
   ],
   "source": [
    "try:\n",
    "    \n",
    "    with open('input.txt', 'r') as input_file, open('output.txt', 'w') as output_file:\n",
    "        word_length_dict = {}  \n",
    "\n",
    "        \n",
    "        for line in input_file:\n",
    "            word = line.strip()  \n",
    "            length = len(word)  \n",
    "            word_length_dict[word] = length  \n",
    "\n",
    "        \n",
    "        for word, length in word_length_dict.items():\n",
    "            output_file.write(f\"{word}: {length}\\n\")\n",
    "\n",
    "    print(\"Word-length dictionary has been written to output.txt\")\n",
    "\n",
    "except FileNotFoundError:\n",
    "    print(\"Input file 'input.txt' not found.\")\n",
    "except Exception as e:\n",
    "    print(f\"An error occurred: {e}\")\n"
   ]
  },
  {
   "cell_type": "code",
   "execution_count": null,
   "id": "676cf007-3cc9-43d3-a219-fbe4c6c28811",
   "metadata": {},
   "outputs": [],
   "source": []
  }
 ],
 "metadata": {
  "kernelspec": {
   "display_name": "Python 3 (ipykernel)",
   "language": "python",
   "name": "python3"
  },
  "language_info": {
   "codemirror_mode": {
    "name": "ipython",
    "version": 3
   },
   "file_extension": ".py",
   "mimetype": "text/x-python",
   "name": "python",
   "nbconvert_exporter": "python",
   "pygments_lexer": "ipython3",
   "version": "3.11.5"
  }
 },
 "nbformat": 4,
 "nbformat_minor": 5
}
