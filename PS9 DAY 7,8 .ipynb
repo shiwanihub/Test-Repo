{
 "cells": [
  {
   "cell_type": "code",
   "execution_count": 1,
   "id": "656c6381-29cd-4967-a88f-1cb4438debdb",
   "metadata": {},
   "outputs": [
    {
     "name": "stdout",
     "output_type": "stream",
     "text": [
      "Infix 1: A/B^C+D*E-F*G\n",
      "Postfix 1: ABC^/DE*+FG*-\n",
      "\n",
      "Infix 2: (B^2-4*A*C)^(1/2) (100)\n",
      "Postfix 2: B2^4A*C*-12/100^\n"
     ]
    }
   ],
   "source": [
    "def infix_to_postfix(expression):\n",
    "    precedence = {'+': 1, '-': 1, '*': 2, '/': 2, '^': 3}\n",
    "\n",
    "    def is_operator(char):\n",
    "        return char in \"+-*/^\"\n",
    "\n",
    "    def higher_precedence(op1, op2):\n",
    "        return precedence[op1] >= precedence[op2]\n",
    "\n",
    "    stack = []\n",
    "    postfix = []\n",
    "\n",
    "    for char in expression:\n",
    "        if char.isalnum():  # Operand\n",
    "            postfix.append(char)\n",
    "        elif char == '(':  # Left parenthesis\n",
    "            stack.append(char)\n",
    "        elif char == ')':  # Right parenthesis\n",
    "            while stack and stack[-1] != '(':\n",
    "                postfix.append(stack.pop())\n",
    "            stack.pop()  # Remove the left parenthesis\n",
    "        elif is_operator(char):  # Operator\n",
    "            while stack and stack[-1] != '(' and higher_precedence(stack[-1], char):\n",
    "                postfix.append(stack.pop())\n",
    "            stack.append(char)\n",
    "\n",
    "    while stack:\n",
    "        postfix.append(stack.pop())\n",
    "\n",
    "    return ''.join(postfix)\n",
    "\n",
    "# Test cases\n",
    "expression1 = \"A/B^C+D*E-F*G\"\n",
    "expression2 = \"(B^2-4*A*C)^(1/2) (100)\"\n",
    "\n",
    "print(\"Infix 1:\", expression1)\n",
    "print(\"Postfix 1:\", infix_to_postfix(expression1))\n",
    "\n",
    "print(\"\\nInfix 2:\", expression2)\n",
    "print(\"Postfix 2:\", infix_to_postfix(expression2))\n"
   ]
  },
  {
   "cell_type": "code",
   "execution_count": null,
   "id": "f9bde81b-ef7f-47bd-a889-fc185369fe60",
   "metadata": {},
   "outputs": [],
   "source": []
  }
 ],
 "metadata": {
  "kernelspec": {
   "display_name": "Python 3 (ipykernel)",
   "language": "python",
   "name": "python3"
  },
  "language_info": {
   "codemirror_mode": {
    "name": "ipython",
    "version": 3
   },
   "file_extension": ".py",
   "mimetype": "text/x-python",
   "name": "python",
   "nbconvert_exporter": "python",
   "pygments_lexer": "ipython3",
   "version": "3.11.5"
  }
 },
 "nbformat": 4,
 "nbformat_minor": 5
}
