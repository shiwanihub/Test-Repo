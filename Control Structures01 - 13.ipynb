{
 "cells": [
  {
   "cell_type": "code",
   "execution_count": 1,
   "id": "10f858fa-ca65-4666-9092-a1a7e4298c38",
   "metadata": {},
   "outputs": [
    {
     "name": "stdout",
     "output_type": "stream",
     "text": [
      "It will take 2.76 hours to travel from London to Glasgow at an average speed of 150 mph.\n"
     ]
    }
   ],
   "source": [
    "\n",
    "distance_miles = 414  # Distance from London to Glasgow in miles\n",
    "speed_mph = 150       # Average speed of the train in mph\n",
    "\n",
    "# Calculate the time in hours\n",
    "time_hours = distance_miles / speed_mph\n",
    "\n",
    "# Display the result\n",
    "print(f\"It will take {time_hours} hours to travel from London to Glasgow at an average speed of {speed_mph} mph.\")\n"
   ]
  }
 ],
 "metadata": {
  "kernelspec": {
   "display_name": "Python 3 (ipykernel)",
   "language": "python",
   "name": "python3"
  },
  "language_info": {
   "codemirror_mode": {
    "name": "ipython",
    "version": 3
   },
   "file_extension": ".py",
   "mimetype": "text/x-python",
   "name": "python",
   "nbconvert_exporter": "python",
   "pygments_lexer": "ipython3",
   "version": "3.11.5"
  }
 },
 "nbformat": 4,
 "nbformat_minor": 5
}
