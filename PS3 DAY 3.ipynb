{
 "cells": [
  {
   "cell_type": "code",
   "execution_count": 1,
   "id": "b9bdacf4-6b70-4fc3-b4fa-c4f81b8098ae",
   "metadata": {},
   "outputs": [
    {
     "name": "stdout",
     "output_type": "stream",
     "text": [
      "Error: Input file not found.\n"
     ]
    }
   ],
   "source": [
    "def sed(pattern, replacement, input_file, output_file):\n",
    "    try:\n",
    "        with open(input_file, 'r') as source_file:\n",
    "            content = source_file.read()\n",
    "\n",
    "        modified_content = content.replace(pattern, replacement)\n",
    "\n",
    "        with open(output_file, 'w') as destination_file:\n",
    "            destination_file.write(modified_content)\n",
    "\n",
    "        print(\"Operation successful: File modified and saved as\", output_file)\n",
    "    except FileNotFoundError:\n",
    "        print(\"Error: Input file not found.\")\n",
    "    except Exception as e:\n",
    "        print(f\"An error occurred: {str(e)}\")\n",
    "\n",
    "# Example usage:\n",
    "pattern = \"old_string\"         # Replace with the pattern you want to find\n",
    "replacement = \"new_string\"     # Replace with the replacement string\n",
    "input_file = \"input.txt\"       # Replace with your input file path\n",
    "output_file = \"output.txt\"     # Replace with your output file path\n",
    "sed(pattern, replacement, input_file, output_file)\n"
   ]
  },
  {
   "cell_type": "code",
   "execution_count": null,
   "id": "49863683-8e89-4bf4-a65a-d09552b65a78",
   "metadata": {},
   "outputs": [],
   "source": []
  }
 ],
 "metadata": {
  "kernelspec": {
   "display_name": "Python 3 (ipykernel)",
   "language": "python",
   "name": "python3"
  },
  "language_info": {
   "codemirror_mode": {
    "name": "ipython",
    "version": 3
   },
   "file_extension": ".py",
   "mimetype": "text/x-python",
   "name": "python",
   "nbconvert_exporter": "python",
   "pygments_lexer": "ipython3",
   "version": "3.11.5"
  }
 },
 "nbformat": 4,
 "nbformat_minor": 5
}
