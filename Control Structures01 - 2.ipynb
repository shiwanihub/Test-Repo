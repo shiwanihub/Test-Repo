{
 "cells": [
  {
   "cell_type": "code",
   "execution_count": 1,
   "id": "53189c19-09b2-4e19-b49d-e7fdf83ebc50",
   "metadata": {},
   "outputs": [
    {
     "name": "stdin",
     "output_type": "stream",
     "text": [
      "Enter Basic Salary:  12000\n",
      "Enter HRA:  8\n",
      "Enter TA:  6\n",
      "Enter DA:  7\n"
     ]
    }
   ],
   "source": [
    "basic_salary = float(input(\"Enter Basic Salary: \"))\n",
    "hra = float(input(\"Enter HRA: \"))\n",
    "ta = float(input(\"Enter TA: \"))\n",
    "da = float(input(\"Enter DA: \"))\n"
   ]
  },
  {
   "cell_type": "code",
   "execution_count": 2,
   "id": "65861dc4-13e8-488d-a1fe-180b58aad687",
   "metadata": {},
   "outputs": [],
   "source": [
    "gross_salary = basic_salary + hra + ta + da\n"
   ]
  },
  {
   "cell_type": "code",
   "execution_count": 3,
   "id": "d34e4817-6397-4c5e-8082-bf9719837d91",
   "metadata": {},
   "outputs": [],
   "source": [
    "tax = 0.10 * gross_salary\n"
   ]
  },
  {
   "cell_type": "code",
   "execution_count": 4,
   "id": "949fcc48-7975-4871-acd8-31a87669f332",
   "metadata": {},
   "outputs": [],
   "source": [
    "net_salary = gross_salary - tax\n"
   ]
  },
  {
   "cell_type": "code",
   "execution_count": 5,
   "id": "402f4a07-d509-4a28-afb7-83b7d8524495",
   "metadata": {},
   "outputs": [
    {
     "name": "stdout",
     "output_type": "stream",
     "text": [
      "Gross Salary: 12021.00\n",
      "Tax (10%): 1202.10\n",
      "Net Salary: 10818.90\n"
     ]
    }
   ],
   "source": [
    "print(f\"Gross Salary: {gross_salary:.2f}\")\n",
    "print(f\"Tax (10%): {tax:.2f}\")\n",
    "print(f\"Net Salary: {net_salary:.2f}\")\n"
   ]
  }
 ],
 "metadata": {
  "kernelspec": {
   "display_name": "Python 3 (ipykernel)",
   "language": "python",
   "name": "python3"
  },
  "language_info": {
   "codemirror_mode": {
    "name": "ipython",
    "version": 3
   },
   "file_extension": ".py",
   "mimetype": "text/x-python",
   "name": "python",
   "nbconvert_exporter": "python",
   "pygments_lexer": "ipython3",
   "version": "3.11.5"
  }
 },
 "nbformat": 4,
 "nbformat_minor": 5
}
