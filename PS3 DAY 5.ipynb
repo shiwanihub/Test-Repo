{
 "cells": [
  {
   "cell_type": "code",
   "execution_count": 1,
   "id": "95d3c535-1d11-4aa8-845b-640b7dd33450",
   "metadata": {},
   "outputs": [
    {
     "name": "stdout",
     "output_type": "stream",
     "text": [
      "Error: 'requirements.txt' file not found.\n"
     ]
    }
   ],
   "source": [
    "import subprocess\n",
    "\n",
    "# Function to install project dependencies from requirements.txt\n",
    "def install_dependencies():\n",
    "    try:\n",
    "        subprocess.run([\"pip\", \"install\", \"-r\", \"requirements.txt\"], check=True)\n",
    "        print(\"Dependencies installed successfully.\")\n",
    "    except subprocess.CalledProcessError:\n",
    "        print(\"Error: Failed to install dependencies.\")\n",
    "\n",
    "# Function to check package compatibility\n",
    "def check_compatibility():\n",
    "    try:\n",
    "        subprocess.run([\"pip\", \"check\"], check=True)\n",
    "        print(\"Package compatibility checked.\")\n",
    "    except subprocess.CalledProcessError:\n",
    "        print(\"Error: Package compatibility check failed.\")\n",
    "\n",
    "if __name__ == \"__main__\":\n",
    "    # Assuming you have a requirements.txt file in the same directory\n",
    "    try:\n",
    "        with open(\"requirements.txt\", \"r\") as requirements_file:\n",
    "            print(\"Installing project dependencies...\")\n",
    "            install_dependencies()\n",
    "            print(\"\\nChecking package compatibility...\")\n",
    "            check_compatibility()\n",
    "    except FileNotFoundError:\n",
    "        print(\"Error: 'requirements.txt' file not found.\")\n"
   ]
  },
  {
   "cell_type": "code",
   "execution_count": null,
   "id": "076fe25f-44f5-4bef-a818-279fdfbe2662",
   "metadata": {},
   "outputs": [],
   "source": []
  }
 ],
 "metadata": {
  "kernelspec": {
   "display_name": "Python 3 (ipykernel)",
   "language": "python",
   "name": "python3"
  },
  "language_info": {
   "codemirror_mode": {
    "name": "ipython",
    "version": 3
   },
   "file_extension": ".py",
   "mimetype": "text/x-python",
   "name": "python",
   "nbconvert_exporter": "python",
   "pygments_lexer": "ipython3",
   "version": "3.11.5"
  }
 },
 "nbformat": 4,
 "nbformat_minor": 5
}
