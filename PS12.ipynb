{
 "cells": [
  {
   "cell_type": "code",
   "execution_count": 1,
   "id": "e7b35e87-0003-403c-8703-8f0900011493",
   "metadata": {},
   "outputs": [],
   "source": [
    "words = ('hello', 'Dear', 'hOw', 'ARe', 'You')\n"
   ]
  },
  {
   "cell_type": "code",
   "execution_count": 2,
   "id": "bbcdf8e1-3bd8-45ac-adaa-8c244724c647",
   "metadata": {},
   "outputs": [],
   "source": [
    "result_words = []\n"
   ]
  },
  {
   "cell_type": "code",
   "execution_count": 3,
   "id": "35fbe2ed-529e-45e2-8abf-43f330c41542",
   "metadata": {},
   "outputs": [],
   "source": [
    "for word in words:\n",
    "    if len(word) >= 2 and word[1].isupper():\n",
    "        result_words.append(word)\n"
   ]
  },
  {
   "cell_type": "code",
   "execution_count": 4,
   "id": "6f8348b0-d159-4ed0-8862-604b538628ce",
   "metadata": {},
   "outputs": [
    {
     "name": "stdout",
     "output_type": "stream",
     "text": [
      "Words with the second character in uppercase: ['hOw', 'ARe']\n"
     ]
    }
   ],
   "source": [
    "print(\"Words with the second character in uppercase:\", result_words)\n"
   ]
  }
 ],
 "metadata": {
  "kernelspec": {
   "display_name": "Python 3 (ipykernel)",
   "language": "python",
   "name": "python3"
  },
  "language_info": {
   "codemirror_mode": {
    "name": "ipython",
    "version": 3
   },
   "file_extension": ".py",
   "mimetype": "text/x-python",
   "name": "python",
   "nbconvert_exporter": "python",
   "pygments_lexer": "ipython3",
   "version": "3.11.5"
  }
 },
 "nbformat": 4,
 "nbformat_minor": 5
}
