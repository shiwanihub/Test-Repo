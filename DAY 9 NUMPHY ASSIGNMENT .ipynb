{
 "cells": [
  {
   "cell_type": "code",
   "execution_count": 20,
   "id": "88248d79-e70e-4e68-901c-40d1228109ba",
   "metadata": {},
   "outputs": [
    {
     "name": "stdout",
     "output_type": "stream",
     "text": [
      "[[[0.49315779 0.75732705 0.24249966]\n",
      "  [0.81960022 0.27580535 0.07975614]\n",
      "  [0.79783397 0.52541031 0.74249198]]\n",
      "\n",
      " [[0.18794023 0.82765347 0.29439243]\n",
      "  [0.83182244 0.67993008 0.86908389]\n",
      "  [0.81696325 0.36500086 0.58961963]]\n",
      "\n",
      " [[0.71046648 0.86876122 0.17156226]\n",
      "  [0.10820674 0.83900818 0.7225705 ]\n",
      "  [0.484075   0.13821406 0.48187266]]]\n"
     ]
    }
   ],
   "source": [
    "import numpy as np\n",
    "\n",
    "# Create a 3x3x3 array with random values between 0 and 1\n",
    "random_array = np.random.rand(3, 3, 3)\n",
    "\n",
    "print(random_array)\n",
    "\n"
   ]
  },
  {
   "cell_type": "code",
   "execution_count": 21,
   "id": "670b5b09-ad62-450a-941c-65d941a3d8a6",
   "metadata": {},
   "outputs": [
    {
     "name": "stdout",
     "output_type": "stream",
     "text": [
      "[[0. 0. 0. 0. 0.]\n",
      " [1. 0. 0. 0. 0.]\n",
      " [0. 2. 0. 0. 0.]\n",
      " [0. 0. 3. 0. 0.]\n",
      " [0. 0. 0. 4. 0.]]\n"
     ]
    }
   ],
   "source": [
    "import numpy as np\n",
    "\n",
    "# Create a 5x5 matrix filled with zeros\n",
    "matrix = np.zeros((5, 5))\n",
    "\n",
    "# Fill the values just below the diagonal\n",
    "for i in range(1, 5):\n",
    "    matrix[i, i - 1] = i\n",
    "\n",
    "print(matrix)\n"
   ]
  },
  {
   "cell_type": "code",
   "execution_count": 22,
   "id": "48813da1-d313-4dd9-b44e-fbfa314fd849",
   "metadata": {},
   "outputs": [
    {
     "name": "stdout",
     "output_type": "stream",
     "text": [
      "[[0 1 0 1 0 1 0 1]\n",
      " [1 0 1 0 1 0 1 0]\n",
      " [0 1 0 1 0 1 0 1]\n",
      " [1 0 1 0 1 0 1 0]\n",
      " [0 1 0 1 0 1 0 1]\n",
      " [1 0 1 0 1 0 1 0]\n",
      " [0 1 0 1 0 1 0 1]\n",
      " [1 0 1 0 1 0 1 0]]\n"
     ]
    }
   ],
   "source": [
    "import numpy as np\n",
    "\n",
    "# Create an 8x8 matrix filled with zeros\n",
    "matrix = np.zeros((8, 8), dtype=int)\n",
    "\n",
    "# Fill the checkerboard pattern\n",
    "matrix[1::2, ::2] = 1  # Odd rows, even columns\n",
    "matrix[::2, 1::2] = 1  # Even rows, odd columns\n",
    "\n",
    "print(matrix)\n"
   ]
  },
  {
   "cell_type": "code",
   "execution_count": 23,
   "id": "f37d97f3-6884-4666-bc4f-61db6f7bde97",
   "metadata": {},
   "outputs": [
    {
     "name": "stdout",
     "output_type": "stream",
     "text": [
      "Random Matrix:\n",
      "[[0.2160315  0.28733344 0.77055623 0.64296936 0.40989756]\n",
      " [0.67072767 0.12413484 0.80846173 0.0316376  0.02827281]\n",
      " [0.8335525  0.13679053 0.0084725  0.61478796 0.97382319]\n",
      " [0.99290174 0.09713957 0.42276483 0.04616908 0.56152321]\n",
      " [0.15250052 0.05976386 0.10527316 0.92111985 0.50704178]]\n",
      "\n",
      "Normalized Matrix:\n",
      "[[-0.60535886 -0.39052475  1.06543473  0.68101305 -0.02123672]\n",
      " [ 0.76464937 -0.88224526  1.17964473 -1.16094122 -1.1710794 ]\n",
      " [ 1.2552437  -0.84411341 -1.23073809  0.59610195  1.67788198]\n",
      " [ 1.73536601 -0.96358253  0.0175326  -1.11715758  0.43561425]\n",
      " [-0.79677891 -1.07619624 -0.93907585  1.51908579  0.27146067]]\n"
     ]
    }
   ],
   "source": [
    "import numpy as np\n",
    "\n",
    "# Create a random 5x5 matrix\n",
    "random_matrix = np.random.rand(5, 5)\n",
    "\n",
    "# Calculate the mean and standard deviation\n",
    "mean = random_matrix.mean()\n",
    "std_dev = random_matrix.std()\n",
    "\n",
    "# Normalize the matrix\n",
    "normalized_matrix = (random_matrix - mean) / std_dev\n",
    "\n",
    "print(\"Random Matrix:\")\n",
    "print(random_matrix)\n",
    "print(\"\\nNormalized Matrix:\")\n",
    "print(normalized_matrix)\n"
   ]
  },
  {
   "cell_type": "code",
   "execution_count": 24,
   "id": "95c47ae4-5623-498d-a4b3-8c758371a2ca",
   "metadata": {},
   "outputs": [
    {
     "name": "stdout",
     "output_type": "stream",
     "text": [
      "[3, 4, 5]\n",
      "[3 4 5]\n"
     ]
    }
   ],
   "source": [
    "# Define two lists\n",
    "list1 = [1, 2, 3, 4, 5]\n",
    "list2 = [3, 4, 5, 6, 7]\n",
    "\n",
    "# Use set intersection to find common values\n",
    "common_values = list(set(list1) & set(list2))\n",
    "\n",
    "print(common_values)\n",
    "\n",
    "\n",
    "import numpy as np\n",
    "\n",
    "# Define two NumPy arrays\n",
    "array1 = np.array([1, 2, 3, 4, 5])\n",
    "array2 = np.array([3, 4, 5, 6, 7])\n",
    "\n",
    "# Use np.intersect1d() to find common values\n",
    "common_values = np.intersect1d(array1, array2)\n",
    "\n",
    "print(common_values)\n"
   ]
  },
  {
   "cell_type": "code",
   "execution_count": 25,
   "id": "cec6d25b-a8eb-4bca-9682-8ff7376baf28",
   "metadata": {},
   "outputs": [
    {
     "name": "stdout",
     "output_type": "stream",
     "text": [
      "Yesterday: 2023-09-22\n",
      "Today: 2023-09-23\n",
      "Tomorrow: 2023-09-24\n"
     ]
    }
   ],
   "source": [
    "from datetime import datetime, timedelta\n",
    "\n",
    "# Get today's date\n",
    "today = datetime.now().date()\n",
    "\n",
    "# Calculate yesterday and tomorrow\n",
    "yesterday = today - timedelta(days=1)\n",
    "tomorrow = today + timedelta(days=1)\n",
    "\n",
    "\n",
    "today_str = today.strftime(\"%Y-%m-%d\")\n",
    "yesterday_str = yesterday.strftime(\"%Y-%m-%d\")\n",
    "tomorrow_str = tomorrow.strftime(\"%Y-%m-%d\")\n",
    "\n",
    "# Print the dates\n",
    "print(\"Yesterday:\", yesterday_str)\n",
    "print(\"Today:\", today_str)\n",
    "print(\"Tomorrow:\", tomorrow_str)\n"
   ]
  },
  {
   "cell_type": "code",
   "execution_count": 26,
   "id": "275277d7-9812-4d35-b92d-66fee4b03955",
   "metadata": {},
   "outputs": [
    {
     "name": "stdout",
     "output_type": "stream",
     "text": [
      "Arrays A and B are not equal.\n"
     ]
    }
   ],
   "source": [
    "import numpy as np\n",
    "\n",
    "# Generate two random arrays A and B\n",
    "A = np.random.rand(3, 3)\n",
    "B = np.random.rand(3, 3)\n",
    "\n",
    "# Check if A and B are equal\n",
    "are_equal = np.array_equal(A, B)\n",
    "\n",
    "if are_equal:\n",
    "    print(\"Arrays A and B are equal.\")\n",
    "else:\n",
    "    print(\"Arrays A and B are not equal.\")\n"
   ]
  },
  {
   "cell_type": "code",
   "execution_count": 27,
   "id": "775f9a94-de29-49a9-b5aa-f43b91346c9b",
   "metadata": {},
   "outputs": [
    {
     "name": "stdout",
     "output_type": "stream",
     "text": [
      "Random vector with the maximum value replaced by 0:\n",
      "[0.10197913 0.42142177 0.915039   0.24297851 0.69769714 0.33928398\n",
      " 0.83358104 0.0628842  0.         0.34849884]\n"
     ]
    }
   ],
   "source": [
    "import numpy as np\n",
    "\n",
    "# Create a random vector of size 10\n",
    "random_vector = np.random.rand(10)\n",
    "\n",
    "# Find the index of the maximum value in the vector\n",
    "max_index = np.argmax(random_vector)\n",
    "\n",
    "# Replace the maximum value with 0\n",
    "random_vector[max_index] = 0\n",
    "\n",
    "print(\"Random vector with the maximum value replaced by 0:\")\n",
    "print(random_vector)\n"
   ]
  },
  {
   "cell_type": "code",
   "execution_count": 28,
   "id": "5ad553a1-5db6-40c2-9ffc-44417359b125",
   "metadata": {},
   "outputs": [
    {
     "name": "stdout",
     "output_type": "stream",
     "text": [
      "1\n",
      "2\n",
      "3\n",
      "4\n",
      "5\n",
      "1\n",
      "2\n",
      "3\n",
      "4\n",
      "5\n"
     ]
    }
   ],
   "source": [
    "# Define a Python list\n",
    "my_list = [1, 2, 3, 4, 5]\n",
    "\n",
    "# Use a for loop to print each element\n",
    "for element in my_list:\n",
    "    print(element)\n",
    "\n",
    "\n",
    "import numpy as np\n",
    "\n",
    "# Define a NumPy array\n",
    "my_array = np.array([1, 2, 3, 4, 5])\n",
    "\n",
    "# Use a for loop to print each element\n",
    "for element in my_array:\n",
    "    print(element)\n"
   ]
  },
  {
   "cell_type": "code",
   "execution_count": 29,
   "id": "14b57b45-ce0a-4d14-8475-fb8233b1ab45",
   "metadata": {},
   "outputs": [
    {
     "name": "stdout",
     "output_type": "stream",
     "text": [
      "Original Matrix:\n",
      "[[1 2 3]\n",
      " [4 5 6]\n",
      " [7 8 9]]\n",
      "\n",
      "Matrix with Row Means Subtracted:\n",
      "[[-1.  0.  1.]\n",
      " [-1.  0.  1.]\n",
      " [-1.  0.  1.]]\n"
     ]
    }
   ],
   "source": [
    "import numpy as np\n",
    "\n",
    "\n",
    "matrix = np.array([[1, 2, 3],\n",
    "                   [4, 5, 6],\n",
    "                   [7, 8, 9]])\n",
    "\n",
    "# Calculate the mean of each row\n",
    "row_means = np.mean(matrix, axis=1)\n",
    "\n",
    "# Subtract the row means from the matrix\n",
    "normalized_matrix = matrix - row_means[:, np.newaxis]\n",
    "\n",
    "print(\"Original Matrix:\")\n",
    "print(matrix)\n",
    "\n",
    "print(\"\\nMatrix with Row Means Subtracted:\")\n",
    "print(normalized_matrix)\n"
   ]
  },
  {
   "cell_type": "code",
   "execution_count": 30,
   "id": "2d374cad-86bf-445e-a3fc-bd270c7c2ea0",
   "metadata": {},
   "outputs": [
    {
     "name": "stdout",
     "output_type": "stream",
     "text": [
      "Original Vector:\n",
      "[1 2 3 4 5]\n",
      "\n",
      "Modified Vector:\n",
      "[1 3 3 5 6]\n"
     ]
    }
   ],
   "source": [
    "import numpy as np\n",
    "\n",
    "# Define the original vector\n",
    "original_vector = np.array([1, 2, 3, 4, 5])\n",
    "\n",
    "# Define the indices where you want to add 1\n",
    "indices_to_add_1 = np.array([1, 3, 4])\n",
    "\n",
    "# Create a new vector with 1 added to specified indices\n",
    "modified_vector = original_vector.copy()  # Create a copy to avoid modifying the original vector\n",
    "modified_vector[indices_to_add_1] += 1\n",
    "\n",
    "print(\"Original Vector:\")\n",
    "print(original_vector)\n",
    "\n",
    "print(\"\\nModified Vector:\")\n",
    "print(modified_vector)\n"
   ]
  },
  {
   "cell_type": "code",
   "execution_count": 31,
   "id": "1b9e88df-9e9d-4d81-9fbf-556c6acbbb7b",
   "metadata": {},
   "outputs": [
    {
     "name": "stdout",
     "output_type": "stream",
     "text": [
      "Matrix A:\n",
      "[[1 2 3]\n",
      " [4 5 6]\n",
      " [7 8 9]]\n",
      "\n",
      "Matrix B:\n",
      "[[9 8 7]\n",
      " [6 5 4]\n",
      " [3 2 1]]\n",
      "\n",
      "Dot Product:\n",
      "[[ 30  24  18]\n",
      " [ 84  69  54]\n",
      " [138 114  90]]\n",
      "\n",
      "Diagonal of the Dot Product:\n",
      "[30 69 90]\n"
     ]
    }
   ],
   "source": [
    "import numpy as np\n",
    "\n",
    "# Create two  matrices\n",
    "matrix_A = np.array([[1, 2, 3],\n",
    "                     [4, 5, 6],\n",
    "                     [7, 8, 9]])\n",
    "\n",
    "matrix_B = np.array([[9, 8, 7],\n",
    "                     [6, 5, 4],\n",
    "                     [3, 2, 1]])\n",
    "\n",
    "# Calculate the dot product of the two matrices\n",
    "dot_product_result = np.dot(matrix_A, matrix_B)\n",
    "\n",
    "# Extract the diagonal elements of the dot product matrix\n",
    "diagonal_elements = np.diag(dot_product_result)\n",
    "\n",
    "print(\"Matrix A:\")\n",
    "print(matrix_A)\n",
    "\n",
    "print(\"\\nMatrix B:\")\n",
    "print(matrix_B)\n",
    "\n",
    "print(\"\\nDot Product:\")\n",
    "print(dot_product_result)\n",
    "\n",
    "print(\"\\nDiagonal of the Dot Product:\")\n",
    "print(diagonal_elements)\n"
   ]
  },
  {
   "cell_type": "code",
   "execution_count": 32,
   "id": "e2b6cc04-0ead-4970-92b9-0010917cdbef",
   "metadata": {},
   "outputs": [
    {
     "name": "stdout",
     "output_type": "stream",
     "text": [
      "The most frequent value is: 4\n",
      "It occurs 4 times.\n"
     ]
    }
   ],
   "source": [
    "from collections import Counter\n",
    "\n",
    "# Define your array\n",
    "my_array = [1, 2, 2, 3, 3, 3, 4, 4, 4, 4, 5]\n",
    "\n",
    "# Use Counter to find the most common element\n",
    "most_common = Counter(my_array).most_common(1)\n",
    "\n",
    "if most_common:\n",
    "    print(\"The most frequent value is:\", most_common[0][0])\n",
    "    print(\"It occurs\", most_common[0][1], \"times.\")\n",
    "else:\n",
    "    print(\"The array is empty.\")\n"
   ]
  },
  {
   "cell_type": "code",
   "execution_count": 33,
   "id": "073af609-7442-4721-8208-daab37600622",
   "metadata": {},
   "outputs": [
    {
     "name": "stdout",
     "output_type": "stream",
     "text": [
      "The 3 largest values are: [17 42 25]\n"
     ]
    }
   ],
   "source": [
    "import numpy as np\n",
    "\n",
    "# numerical array\n",
    "my_array = np.array([12, 5, 9, 25, 7, 42, 8, 17])\n",
    "\n",
    "# Specify the value of n \n",
    "n = 3\n",
    "\n",
    "# Use NumPy to get the n largest values\n",
    "n_largest_values = np.partition(my_array, -n)[-n:]\n",
    "\n",
    "print(f\"The {n} largest values are: {n_largest_values}\")\n"
   ]
  },
  {
   "cell_type": "code",
   "execution_count": 34,
   "id": "5b963f32-d433-4aa1-9640-17c17758cad9",
   "metadata": {},
   "outputs": [
    {
     "name": "stdout",
     "output_type": "stream",
     "text": [
      "Record Array:\n",
      "[(1, 'Alice', 25) (2, 'Bob', 30) (3, 'Charlie', 35)]\n",
      "\n",
      "Name column:\n",
      "['Alice' 'Bob' 'Charlie']\n",
      "\n",
      "Age column:\n",
      "[25 30 35]\n"
     ]
    }
   ],
   "source": [
    "import numpy as np\n",
    "\n",
    "# Create a regular array \n",
    "regular_array = [(1, 'Alice', 25),\n",
    "                 (2, 'Bob', 30),\n",
    "                 (3, 'Charlie', 35)]\n",
    "\n",
    "# Define the field names for the record array\n",
    "dtype = [('ID', int), ('Name', 'U10'), ('Age', int)]\n",
    "\n",
    "# Create a record array from the regular array\n",
    "record_array = np.array(regular_array, dtype=dtype)\n",
    "\n",
    "# Access elements by field names\n",
    "print(\"Record Array:\")\n",
    "print(record_array)\n",
    "\n",
    "# Access specific fields\n",
    "print(\"\\nName column:\")\n",
    "print(record_array['Name'])\n",
    "\n",
    "print(\"\\nAge column:\")\n",
    "print(record_array['Age'])\n"
   ]
  },
  {
   "cell_type": "code",
   "execution_count": 35,
   "id": "5f6cb707-f772-4b2a-9d67-b99cacdb52fc",
   "metadata": {},
   "outputs": [
    {
     "name": "stdout",
     "output_type": "stream",
     "text": [
      "Array after swapping rows:\n",
      "[[7 8 9]\n",
      " [4 5 6]\n",
      " [1 2 3]]\n"
     ]
    }
   ],
   "source": [
    "import numpy as np\n",
    "\n",
    "\n",
    "my_array = np.array([[1, 2, 3],\n",
    "                     [4, 5, 6],\n",
    "                     [7, 8, 9]])\n",
    "\n",
    "# Specify the indices of the rows you want to swap \n",
    "row1_index = 0\n",
    "row2_index = 2\n",
    "\n",
    "# Swap the rows\n",
    "my_array[[row1_index, row2_index]] = my_array[[row2_index, row1_index]]\n",
    "\n",
    "print(\"Array after swapping rows:\")\n",
    "print(my_array)\n"
   ]
  },
  {
   "cell_type": "code",
   "execution_count": 36,
   "id": "8861d858-6013-4ab3-a566-77212f786545",
   "metadata": {},
   "outputs": [
    {
     "name": "stdout",
     "output_type": "stream",
     "text": [
      "Original Array:\n",
      "[1 2 3 4 5 6]\n",
      "\n",
      "Reshaped Array:\n",
      "[[1 2 3]\n",
      " [4 5 6]]\n"
     ]
    }
   ],
   "source": [
    "import numpy as np\n",
    "\n",
    "# Create a 1D array\n",
    "original_array = np.array([1, 2, 3, 4, 5, 6])\n",
    "\n",
    "\n",
    "new_shape = (2, 3)  \n",
    "\n",
    "# Reshape the original array\n",
    "reshaped_array = original_array.reshape(new_shape)\n",
    "\n",
    "print(\"Original Array:\")\n",
    "print(original_array)\n",
    "\n",
    "print(\"\\nReshaped Array:\")\n",
    "print(reshaped_array)\n"
   ]
  },
  {
   "cell_type": "code",
   "execution_count": null,
   "id": "b6a48788-07c6-4854-84a6-9ffa3619bf21",
   "metadata": {},
   "outputs": [],
   "source": []
  }
 ],
 "metadata": {
  "kernelspec": {
   "display_name": "Python 3 (ipykernel)",
   "language": "python",
   "name": "python3"
  },
  "language_info": {
   "codemirror_mode": {
    "name": "ipython",
    "version": 3
   },
   "file_extension": ".py",
   "mimetype": "text/x-python",
   "name": "python",
   "nbconvert_exporter": "python",
   "pygments_lexer": "ipython3",
   "version": "3.11.5"
  }
 },
 "nbformat": 4,
 "nbformat_minor": 5
}
