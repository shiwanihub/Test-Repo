{
 "cells": [
  {
   "cell_type": "code",
   "execution_count": 1,
   "id": "943691b3-4e03-462c-8dc4-9a976504708f",
   "metadata": {},
   "outputs": [],
   "source": [
    "my_functions = {\n",
    "    'Square': lambda x: x**2,\n",
    "    'Cube': lambda x: x**3,\n",
    "    'Squareroot': lambda x: x**0.5\n",
    "}\n",
    "\n"
   ]
  },
  {
   "cell_type": "code",
   "execution_count": 2,
   "id": "25ee919f-19e2-4100-85f8-dfc89f00b2ea",
   "metadata": {},
   "outputs": [
    {
     "name": "stdin",
     "output_type": "stream",
     "text": [
      "Enter a number:  4\n"
     ]
    }
   ],
   "source": [
    "value = float(input(\"Enter a number: \"))\n"
   ]
  },
  {
   "cell_type": "code",
   "execution_count": 3,
   "id": "16904c94-96d6-45cf-9b57-9de88b04d6a1",
   "metadata": {},
   "outputs": [],
   "source": [
    "result = 0\n"
   ]
  },
  {
   "cell_type": "code",
   "execution_count": 4,
   "id": "7273ce93-2287-4e48-b809-8f51a310fc26",
   "metadata": {},
   "outputs": [
    {
     "name": "stdout",
     "output_type": "stream",
     "text": [
      "Square of 4.0 is 16.0\n",
      "Cube of 4.0 is 64.0\n",
      "Squareroot of 4.0 is 2.0\n"
     ]
    }
   ],
   "source": [
    "for key, func in my_functions.items():\n",
    "    output = func(value)\n",
    "    print(f'{key} of {value} is {output}')\n",
    "    result += output"
   ]
  },
  {
   "cell_type": "code",
   "execution_count": 5,
   "id": "2ec8816c-0e22-4cfe-be22-d63a644fc970",
   "metadata": {},
   "outputs": [
    {
     "name": "stdout",
     "output_type": "stream",
     "text": [
      "Sum of outputs: 82.0\n"
     ]
    }
   ],
   "source": [
    "print(\"Sum of outputs:\", result)\n"
   ]
  }
 ],
 "metadata": {
  "kernelspec": {
   "display_name": "Python 3 (ipykernel)",
   "language": "python",
   "name": "python3"
  },
  "language_info": {
   "codemirror_mode": {
    "name": "ipython",
    "version": 3
   },
   "file_extension": ".py",
   "mimetype": "text/x-python",
   "name": "python",
   "nbconvert_exporter": "python",
   "pygments_lexer": "ipython3",
   "version": "3.11.5"
  }
 },
 "nbformat": 4,
 "nbformat_minor": 5
}
