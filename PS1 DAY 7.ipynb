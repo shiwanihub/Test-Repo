{
 "cells": [
  {
   "cell_type": "code",
   "execution_count": 1,
   "id": "5ce31667-75b1-43db-8c95-d57768bda84e",
   "metadata": {},
   "outputs": [
    {
     "name": "stdin",
     "output_type": "stream",
     "text": [
      "Enter the item to be searched:  20\n"
     ]
    },
    {
     "name": "stdout",
     "output_type": "stream",
     "text": [
      "20 found at position 1.\n"
     ]
    }
   ],
   "source": [
    "def linear_search(input_list, match_item):\n",
    "    found = False\n",
    "    position = None\n",
    "\n",
    "    for i, value in enumerate(input_list):\n",
    "        if match_item == value:\n",
    "            found = True\n",
    "            position = i\n",
    "            break\n",
    "\n",
    "    return found, position\n",
    "\n",
    "# Initialize the list\n",
    "input_list = [10, 20, 30, 40, 50]\n",
    "\n",
    "# Enter the item to be searched\n",
    "match_item = int(input(\"Enter the item to be searched: \"))\n",
    "\n",
    "found, position = linear_search(input_list, match_item)\n",
    "\n",
    "if found:\n",
    "    print(f\"{match_item} found at position {position}.\")\n",
    "else:\n",
    "    print(f\"{match_item} is not found in the list.\")\n"
   ]
  },
  {
   "cell_type": "code",
   "execution_count": null,
   "id": "37c7c99a-2304-44dc-a65d-db164049471d",
   "metadata": {},
   "outputs": [],
   "source": []
  }
 ],
 "metadata": {
  "kernelspec": {
   "display_name": "Python 3 (ipykernel)",
   "language": "python",
   "name": "python3"
  },
  "language_info": {
   "codemirror_mode": {
    "name": "ipython",
    "version": 3
   },
   "file_extension": ".py",
   "mimetype": "text/x-python",
   "name": "python",
   "nbconvert_exporter": "python",
   "pygments_lexer": "ipython3",
   "version": "3.11.5"
  }
 },
 "nbformat": 4,
 "nbformat_minor": 5
}
