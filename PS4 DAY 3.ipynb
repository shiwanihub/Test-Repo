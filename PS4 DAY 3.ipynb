{
 "cells": [
  {
   "cell_type": "code",
   "execution_count": 3,
   "id": "a6490b39-a6d1-42f1-be1e-d6c7ce0c468e",
   "metadata": {},
   "outputs": [
    {
     "name": "stdout",
     "output_type": "stream",
     "text": [
      "Error: Log file not found.\n"
     ]
    }
   ],
   "source": [
    "from collections import Counter\n",
    "\n",
    "def analyze_log_file(file_path):\n",
    "    \n",
    "    unique_users = set()\n",
    "    action_count = Counter()\n",
    "\n",
    "    try:\n",
    "        with open(file_path, 'r') as file:\n",
    "            for line in file:\n",
    "                \n",
    "                timestamp, user_id, action = line.strip().split(',')\n",
    "                \n",
    "                \n",
    "                unique_users.add(user_id)\n",
    "                action_count[action] += 1\n",
    "\n",
    "        \n",
    "        print(\"Number of unique users:\", len(unique_users))\n",
    "        most_common_action, most_common_count = action_count.most_common(1)[0]\n",
    "        print(\"Most common action:\", most_common_action)\n",
    "        print(\"Count of the most common action:\", most_common_count)\n",
    "    \n",
    "    except FileNotFoundError:\n",
    "        print(\"Error: Log file not found.\")\n",
    "    except Exception as e:\n",
    "        print(f\"An error occurred: {str(e)}\")\n",
    "\n",
    "# Example usage:\n",
    "log_file_path = \"example.log\"  # Replace with your log file path\n",
    "analyze_log_file(log_file_path)\n"
   ]
  },
  {
   "cell_type": "code",
   "execution_count": null,
   "id": "5a076a79-cde3-4463-9fa5-d4de10d5995b",
   "metadata": {},
   "outputs": [],
   "source": []
  }
 ],
 "metadata": {
  "kernelspec": {
   "display_name": "Python 3 (ipykernel)",
   "language": "python",
   "name": "python3"
  },
  "language_info": {
   "codemirror_mode": {
    "name": "ipython",
    "version": 3
   },
   "file_extension": ".py",
   "mimetype": "text/x-python",
   "name": "python",
   "nbconvert_exporter": "python",
   "pygments_lexer": "ipython3",
   "version": "3.11.5"
  }
 },
 "nbformat": 4,
 "nbformat_minor": 5
}
