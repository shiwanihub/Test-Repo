{
 "cells": [
  {
   "cell_type": "code",
   "execution_count": 2,
   "id": "9e952266-91f7-4348-aa9b-aeb88a120843",
   "metadata": {},
   "outputs": [],
   "source": [
    "my_list = [1, 2, 3, 4, 5]\n"
   ]
  },
  {
   "cell_type": "code",
   "execution_count": 3,
   "id": "0df9698a-dedd-409f-8b71-debbd24c5d21",
   "metadata": {},
   "outputs": [],
   "source": [
    "number_to_insert = 10"
   ]
  },
  {
   "cell_type": "code",
   "execution_count": 4,
   "id": "015e5b4c-e7dd-4ee2-bc19-bddbc51d9531",
   "metadata": {},
   "outputs": [],
   "source": [
    "position = 2"
   ]
  },
  {
   "cell_type": "code",
   "execution_count": 5,
   "id": "1a33ea95-239b-4582-8989-4ca5b8232b0d",
   "metadata": {},
   "outputs": [],
   "source": [
    "my_list.insert(position, number_to_insert)\n"
   ]
  },
  {
   "cell_type": "code",
   "execution_count": 6,
   "id": "1937c155-b141-4d8f-881b-efb6504b790c",
   "metadata": {},
   "outputs": [
    {
     "name": "stdout",
     "output_type": "stream",
     "text": [
      "Updated list: [1, 2, 10, 3, 4, 5]\n"
     ]
    }
   ],
   "source": [
    "print(\"Updated list:\", my_list)\n"
   ]
  },
  {
   "cell_type": "code",
   "execution_count": null,
   "id": "059489e2-35f0-47b4-ab72-26312b040d40",
   "metadata": {},
   "outputs": [],
   "source": []
  }
 ],
 "metadata": {
  "kernelspec": {
   "display_name": "Python 3 (ipykernel)",
   "language": "python",
   "name": "python3"
  },
  "language_info": {
   "codemirror_mode": {
    "name": "ipython",
    "version": 3
   },
   "file_extension": ".py",
   "mimetype": "text/x-python",
   "name": "python",
   "nbconvert_exporter": "python",
   "pygments_lexer": "ipython3",
   "version": "3.11.5"
  }
 },
 "nbformat": 4,
 "nbformat_minor": 5
}
