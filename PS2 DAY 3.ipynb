{
 "cells": [
  {
   "cell_type": "code",
   "execution_count": 1,
   "id": "56102a84-f883-4fba-abe2-a5d2e59f8c97",
   "metadata": {},
   "outputs": [
    {
     "name": "stdout",
     "output_type": "stream",
     "text": [
      "File not found.\n"
     ]
    }
   ],
   "source": [
    "def extract_numbers_and_count_blanks(file_path):\n",
    "    numbers = []\n",
    "    blank_space_count = 0\n",
    "\n",
    "    try:\n",
    "        with open(file_path, 'r') as file:\n",
    "            for line in file:\n",
    "                \n",
    "                words = line.split()\n",
    "                for word in words:\n",
    "                    \n",
    "                    if word.isdigit():\n",
    "                        numbers.append(int(word))\n",
    "                    \n",
    "                    blank_space_count += word.count(' ')\n",
    "\n",
    "        print(\"Numbers found in the file:\", numbers)\n",
    "        print(\"Number of blank spaces in the file:\", blank_space_count)\n",
    "    except FileNotFoundError:\n",
    "        print(\"File not found.\")\n",
    "    except Exception as e:\n",
    "        print(f\"An error occurred: {str(e)}\")\n",
    "\n",
    "# Example usage:\n",
    "file_path = \"your_text_file.txt\"  # Replace with the path to your text file\n",
    "extract_numbers_and_count_blanks(file_path)\n"
   ]
  },
  {
   "cell_type": "code",
   "execution_count": null,
   "id": "a87c923a-9b3e-4507-b817-70535071af0f",
   "metadata": {},
   "outputs": [],
   "source": []
  }
 ],
 "metadata": {
  "kernelspec": {
   "display_name": "Python 3 (ipykernel)",
   "language": "python",
   "name": "python3"
  },
  "language_info": {
   "codemirror_mode": {
    "name": "ipython",
    "version": 3
   },
   "file_extension": ".py",
   "mimetype": "text/x-python",
   "name": "python",
   "nbconvert_exporter": "python",
   "pygments_lexer": "ipython3",
   "version": "3.11.5"
  }
 },
 "nbformat": 4,
 "nbformat_minor": 5
}
