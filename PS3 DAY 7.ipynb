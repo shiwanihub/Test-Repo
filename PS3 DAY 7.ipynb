{
 "cells": [
  {
   "cell_type": "code",
   "execution_count": null,
   "id": "6a13aa0f-4968-4a0b-958e-c9faafa72f14",
   "metadata": {},
   "outputs": [],
   "source": [
    "def selection_sort(arr):\n",
    "    sorted_list = []  \n",
    "\n",
    "    while arr:\n",
    "        min_value = min(arr)  \n",
    "        sorted_list.append(min_value)  \n",
    "        arr.remove(min_value)  \n",
    "\n",
    "    return sorted_list\n",
    "\n",
    "# Get the input list from the user\n",
    "input_list = input(\"Enter a list of elements separated by spaces: \").split()\n",
    "input_list = [int(x) for x in input_list]  \n",
    "\n",
    "# Perform selection sort\n",
    "sorted_result = selection_sort(input_list)\n",
    "\n",
    "\n",
    "print(\"Sorted list:\", sorted_result)\n"
   ]
  },
  {
   "cell_type": "code",
   "execution_count": null,
   "id": "24c09b49-fd25-4cfa-b47b-00762e0d7e70",
   "metadata": {},
   "outputs": [],
   "source": []
  }
 ],
 "metadata": {
  "kernelspec": {
   "display_name": "Python 3 (ipykernel)",
   "language": "python",
   "name": "python3"
  },
  "language_info": {
   "codemirror_mode": {
    "name": "ipython",
    "version": 3
   },
   "file_extension": ".py",
   "mimetype": "text/x-python",
   "name": "python",
   "nbconvert_exporter": "python",
   "pygments_lexer": "ipython3",
   "version": "3.11.5"
  }
 },
 "nbformat": 4,
 "nbformat_minor": 5
}
