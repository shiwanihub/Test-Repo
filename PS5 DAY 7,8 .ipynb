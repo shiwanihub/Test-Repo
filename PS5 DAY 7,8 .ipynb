{
 "cells": [
  {
   "cell_type": "code",
   "execution_count": null,
   "id": "3691122e-358c-445a-b8e1-06bb846fcad8",
   "metadata": {},
   "outputs": [],
   "source": [
    "def merge_sort(arr):\n",
    "    if len(arr) <= 1:\n",
    "        return arr\n",
    "\n",
    "    \n",
    "    mid = len(arr) // 2\n",
    "    left_half = arr[:mid]\n",
    "    right_half = arr[mid:]\n",
    "\n",
    "\n",
    "    left_half = merge_sort(left_half)\n",
    "    right_half = merge_sort(right_half)\n",
    "\n",
    "    \n",
    "    sorted_arr = merge(left_half, right_half)\n",
    "    return sorted_arr\n",
    "\n",
    "def merge(left, right):\n",
    "    merged_arr = []\n",
    "    left_idx, right_idx = 0, 0\n",
    "\n",
    "    while left_idx < len(left) and right_idx < len(right):\n",
    "        if left[left_idx] < right[right_idx]:\n",
    "            merged_arr.append(left[left_idx])\n",
    "            left_idx += 1\n",
    "        else:\n",
    "            merged_arr.append(right[right_idx])\n",
    "            right_idx += 1\n",
    "\n",
    "    # Append the remaining elements from both halves (if any)\n",
    "    merged_arr.extend(left[left_idx:])\n",
    "    merged_arr.extend(right[right_idx:])\n",
    "\n",
    "    return merged_arr\n",
    "\n",
    "# Get the input list from the user\n",
    "input_list = input(\"Enter a list of numbers separated by spaces: \").split()\n",
    "input_list = [int(x) for x in input_list]  \n",
    "\n",
    "# Perform merge sort\n",
    "sorted_result = merge_sort(input_list)\n",
    "\n",
    "\n",
    "print(\"Sorted list:\", sorted_result)\n"
   ]
  },
  {
   "cell_type": "code",
   "execution_count": null,
   "id": "2d658994-b4b0-4c86-b75b-741490707763",
   "metadata": {},
   "outputs": [],
   "source": []
  }
 ],
 "metadata": {
  "kernelspec": {
   "display_name": "Python 3 (ipykernel)",
   "language": "python",
   "name": "python3"
  },
  "language_info": {
   "codemirror_mode": {
    "name": "ipython",
    "version": 3
   },
   "file_extension": ".py",
   "mimetype": "text/x-python",
   "name": "python",
   "nbconvert_exporter": "python",
   "pygments_lexer": "ipython3",
   "version": "3.11.5"
  }
 },
 "nbformat": 4,
 "nbformat_minor": 5
}
