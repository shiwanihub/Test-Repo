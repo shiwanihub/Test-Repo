{
 "cells": [
  {
   "cell_type": "code",
   "execution_count": 1,
   "id": "7d563bda-d9a2-407d-9ee5-ae01f86e34e1",
   "metadata": {},
   "outputs": [
    {
     "name": "stdout",
     "output_type": "stream",
     "text": [
      "Stack: [5, 10, 15]\n",
      "Popped item: 15\n",
      "Stack: [5, 10]\n"
     ]
    }
   ],
   "source": [
    "class Stack:\n",
    "    def __init__(self):\n",
    "        self.items = []\n",
    "\n",
    "    def push(self, item):\n",
    "        self.items.append(item)\n",
    "\n",
    "    def pop(self):\n",
    "        if not self.is_empty():\n",
    "            return self.items.pop()\n",
    "        else:\n",
    "            return \"Stack is empty\"\n",
    "\n",
    "    def is_empty(self):\n",
    "        return len(self.items) == 0\n",
    "\n",
    "    def display(self):\n",
    "        if not self.is_empty():\n",
    "            return self.items\n",
    "        else:\n",
    "            return \"Stack is empty\"\n",
    "\n",
    "\n",
    "# Create a stack and perform operations\n",
    "if __name__ == \"__main__\":\n",
    "    stack = Stack()\n",
    "\n",
    "    # Push elements onto the stack\n",
    "    stack.push(5)\n",
    "    stack.push(10)\n",
    "    stack.push(15)\n",
    "\n",
    "    # Display the stack\n",
    "    print(\"Stack:\", stack.display())\n",
    "\n",
    "    # Pop an element\n",
    "    popped_item = stack.pop()\n",
    "    print(\"Popped item:\", popped_item)\n",
    "\n",
    "    # Display the updated stack\n",
    "    print(\"Stack:\", stack.display())\n"
   ]
  },
  {
   "cell_type": "code",
   "execution_count": null,
   "id": "957173e0-1b48-488d-a16a-6ce57dc24c3b",
   "metadata": {},
   "outputs": [],
   "source": []
  }
 ],
 "metadata": {
  "kernelspec": {
   "display_name": "Python 3 (ipykernel)",
   "language": "python",
   "name": "python3"
  },
  "language_info": {
   "codemirror_mode": {
    "name": "ipython",
    "version": 3
   },
   "file_extension": ".py",
   "mimetype": "text/x-python",
   "name": "python",
   "nbconvert_exporter": "python",
   "pygments_lexer": "ipython3",
   "version": "3.11.5"
  }
 },
 "nbformat": 4,
 "nbformat_minor": 5
}
