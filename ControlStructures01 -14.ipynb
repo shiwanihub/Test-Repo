{
 "cells": [
  {
   "cell_type": "code",
   "execution_count": 1,
   "id": "68f0e209-6548-4a3e-8063-c7bdccae80f7",
   "metadata": {},
   "outputs": [
    {
     "name": "stdout",
     "output_type": "stream",
     "text": [
      "Total hours spent in school from year 7 to year 11: 5760 hours\n"
     ]
    }
   ],
   "source": [
    "\n",
    "days_in_each_school_year = 192  # Number of school days in each school year\n",
    "years_in_school = 5  # Number of school years from year 7 to year 11\n",
    "hours_per_day = 6  # Number of hours spent in school each day\n",
    "\n",
    "# Calculate the total hours spent in school\n",
    "total_hours_in_school = days_in_each_school_year * years_in_school * hours_per_day\n",
    "\n",
    "# Display the result\n",
    "print(f\"Total hours spent in school from year 7 to year 11: {total_hours_in_school} hours\")\n"
   ]
  }
 ],
 "metadata": {
  "kernelspec": {
   "display_name": "Python 3 (ipykernel)",
   "language": "python",
   "name": "python3"
  },
  "language_info": {
   "codemirror_mode": {
    "name": "ipython",
    "version": 3
   },
   "file_extension": ".py",
   "mimetype": "text/x-python",
   "name": "python",
   "nbconvert_exporter": "python",
   "pygments_lexer": "ipython3",
   "version": "3.11.5"
  }
 },
 "nbformat": 4,
 "nbformat_minor": 5
}
