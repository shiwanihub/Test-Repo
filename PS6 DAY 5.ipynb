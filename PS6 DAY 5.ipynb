{
 "cells": [
  {
   "cell_type": "code",
   "execution_count": null,
   "id": "a486508a-3f1e-4ca0-8c39-667901f0a978",
   "metadata": {},
   "outputs": [],
   "source": [
    "import mysql.connector\n",
    "\n",
    "try:\n",
    "    # Database connection parameters\n",
    "    db_config = {\n",
    "        \"host\": \"localhost\",\n",
    "        \"port\": 3306,\n",
    "        \"user\": \"root\",\n",
    "        \"password\": \"your_password\",\n",
    "        \"database\": \"PS6\"\n",
    "    }\n",
    "\n",
    "    \n",
    "    connection = mysql.connector.connect(**db_config)\n",
    "\n",
    "    \n",
    "    cursor = connection.cursor()\n",
    "\n",
    "    \n",
    "    cursor.execute(\"SELECT id, quantity FROM our_table\")\n",
    "    records = cursor.fetchall()\n",
    "\n",
    "\n",
    "    total_quantity = 0\n",
    "\n",
    "    \n",
    "    for record in records:\n",
    "        total_quantity += record[1]\n",
    "\n",
    "    \n",
    "    for record in records:\n",
    "        new_quantity = record[1] * 2\n",
    "        cursor.execute(\"UPDATE our_table SET quantity = %s WHERE id = %s\", (new_quantity, record[0]))\n",
    "\n",
    "    \n",
    "    connection.commit()\n",
    "\n",
    "    \n",
    "    cursor.close()\n",
    "    connection.close()\n",
    "\n",
    "    print(\"Data retrieved, modified, and updated successfully.\")\n",
    "except mysql.connector.Error as error:\n",
    "    print(f\"Error: {error}\")\n",
    "finally:\n",
    "    if connection.is_connected():\n",
    "        cursor.close()\n",
    "        connection.close()\n"
   ]
  }
 ],
 "metadata": {
  "kernelspec": {
   "display_name": "Python 3 (ipykernel)",
   "language": "python",
   "name": "python3"
  },
  "language_info": {
   "codemirror_mode": {
    "name": "ipython",
    "version": 3
   },
   "file_extension": ".py",
   "mimetype": "text/x-python",
   "name": "python",
   "nbconvert_exporter": "python",
   "pygments_lexer": "ipython3",
   "version": "3.11.5"
  }
 },
 "nbformat": 4,
 "nbformat_minor": 5
}
