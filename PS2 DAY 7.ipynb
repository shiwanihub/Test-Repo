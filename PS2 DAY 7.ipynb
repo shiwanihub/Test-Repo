{
 "cells": [
  {
   "cell_type": "code",
   "execution_count": null,
   "id": "f0b4717c-342d-46e0-9b03-8d3c8b715307",
   "metadata": {},
   "outputs": [],
   "source": [
    "def binary_search(arr, target):\n",
    "    arr.sort()  # Sort the list in ascending order\n",
    "    left = 0\n",
    "    right = len(arr) - 1\n",
    "\n",
    "    while left <= right:\n",
    "        mid = left + (right - left) // 2  # Calculate the middle index\n",
    "\n",
    "        if arr[mid] == target:\n",
    "            return True, mid  # Target found\n",
    "        elif arr[mid] < target:\n",
    "            left = mid + 1  # Search in the right half\n",
    "        else:\n",
    "            right = mid - 1  # Search in the left half\n",
    "\n",
    "    return False, -1  # Target not found\n",
    "\n",
    "# Get the number of inputs from the user\n",
    "num_inputs = int(input(\"Enter the number of inputs: \"))\n",
    "\n",
    "# Store the inputs in a list\n",
    "input_list = []\n",
    "for i in range(num_inputs):\n",
    "    input_value = int(input(f\"Enter element {i + 1}: \"))\n",
    "    input_list.append(input_value)\n",
    "\n",
    "# Get the target value from the user\n",
    "target_value = int(input(\"Enter the target value to search: \"))\n",
    "\n",
    "found, position = binary_search(input_list, target_value)\n",
    "\n",
    "if found:\n",
    "    print(f\"{target_value} found at position {position}.\")\n",
    "else:\n",
    "    print(f\"{target_value} is not found in the list.\")\n"
   ]
  },
  {
   "cell_type": "code",
   "execution_count": null,
   "id": "04a87cf1-9220-4e0b-8ec9-a12d822b779f",
   "metadata": {},
   "outputs": [],
   "source": []
  }
 ],
 "metadata": {
  "kernelspec": {
   "display_name": "Python 3 (ipykernel)",
   "language": "python",
   "name": "python3"
  },
  "language_info": {
   "codemirror_mode": {
    "name": "ipython",
    "version": 3
   },
   "file_extension": ".py",
   "mimetype": "text/x-python",
   "name": "python",
   "nbconvert_exporter": "python",
   "pygments_lexer": "ipython3",
   "version": "3.11.5"
  }
 },
 "nbformat": 4,
 "nbformat_minor": 5
}
