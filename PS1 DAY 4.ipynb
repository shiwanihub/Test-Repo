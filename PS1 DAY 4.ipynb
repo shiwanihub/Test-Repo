{
 "cells": [
  {
   "cell_type": "code",
   "execution_count": 1,
   "id": "246d907a-1ef1-4fc3-942d-6585774e4341",
   "metadata": {},
   "outputs": [],
   "source": [
    "import os\n",
    "\n",
    "# Function to input and store grades for a subject\n",
    "def input_grades(subject):\n",
    "    try:\n",
    "        filename = f\"{subject}.txt\"\n",
    "        with open(filename, \"a\") as file:\n",
    "            while True:\n",
    "                student_name = input(\"Enter student name (or type 'exit' to finish): \")\n",
    "                if student_name.lower() == \"exit\":\n",
    "                    break\n",
    "                grade = input(f\"Enter {student_name}'s grade for {subject}: \")\n",
    "                file.write(f\"{student_name}: {grade}\\n\")\n",
    "        print(f\"Grades for {subject} have been saved.\")\n",
    "    except IOError as e:\n",
    "        print(f\"Error: {e}\")\n"
   ]
  },
  {
   "cell_type": "code",
   "execution_count": 2,
   "id": "5688e459-72c8-48c7-adc8-336671714c1b",
   "metadata": {},
   "outputs": [],
   "source": [
    "import os\n",
    "\n",
    "# Function to input and store grades for a subject\n",
    "def input_grades(subject):\n",
    "    try:\n",
    "        filename = f\"{subject}.txt\"\n",
    "        with open(filename, \"a\") as file:\n",
    "            while True:\n",
    "                student_name = input(\"Enter student name (or type 'exit' to finish): \")\n",
    "                if student_name.lower() == \"exit\":\n",
    "                    break\n",
    "                grade = input(f\"Enter {student_name}'s grade for {subject}: \")\n",
    "                file.write(f\"{student_name}: {grade}\\n\")\n",
    "        print(f\"Grades for {subject} have been saved.\")\n",
    "    except IOError as e:\n",
    "        print(f\"Error: {e}\")\n"
   ]
  },
  {
   "cell_type": "code",
   "execution_count": null,
   "id": "6557e3ea-1fc0-4258-b55b-cab00cb1ad0a",
   "metadata": {},
   "outputs": [
    {
     "name": "stdout",
     "output_type": "stream",
     "text": [
      "\n",
      "Student Gradebook System\n",
      "1. Input grades for a subject\n",
      "2. View grades for a subject\n",
      "3. Exit\n"
     ]
    }
   ],
   "source": [
    "# Main program\n",
    "while True:\n",
    "    print(\"\\nStudent Gradebook System\")\n",
    "    print(\"1. Input grades for a subject\")\n",
    "    print(\"2. View grades for a subject\")\n",
    "    print(\"3. Exit\")\n",
    "    \n",
    "    choice = input(\"Enter your choice: \")\n",
    "    \n",
    "    if choice == \"1\":\n",
    "        subject = input(\"Enter the subject: \")\n",
    "        input_grades(subject)\n",
    "    elif choice == \"2\":\n",
    "        subject = input(\"Enter the subject: \")\n",
    "        view_grades(subject)\n",
    "    elif choice == \"3\":\n",
    "        break\n",
    "    else:\n",
    "        print(\"Invalid choice. Please try again.\")\n"
   ]
  },
  {
   "cell_type": "code",
   "execution_count": null,
   "id": "2d851bb6-bd96-47ae-a5d8-8ef7482b8121",
   "metadata": {},
   "outputs": [],
   "source": []
  }
 ],
 "metadata": {
  "kernelspec": {
   "display_name": "Python 3 (ipykernel)",
   "language": "python",
   "name": "python3"
  },
  "language_info": {
   "codemirror_mode": {
    "name": "ipython",
    "version": 3
   },
   "file_extension": ".py",
   "mimetype": "text/x-python",
   "name": "python",
   "nbconvert_exporter": "python",
   "pygments_lexer": "ipython3",
   "version": "3.11.5"
  }
 },
 "nbformat": 4,
 "nbformat_minor": 5
}
