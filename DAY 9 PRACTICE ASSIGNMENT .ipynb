{
 "cells": [
  {
   "cell_type": "code",
   "execution_count": 4,
   "id": "c8230c30-5826-48a9-bbd9-eb184a146ff2",
   "metadata": {},
   "outputs": [
    {
     "name": "stdout",
     "output_type": "stream",
     "text": [
      "Country with the maximum gold medals:\n",
      "USA\n",
      "Gold Medals: 39\n"
     ]
    }
   ],
   "source": [
    "# list of countries and their gold medal counts\n",
    "countries = [\"USA\", \"China\", \"Russia\", \"Japan\", \"Germany\"]\n",
    "gold_medals = [39, 38, 20, 27, 16]\n",
    "\n",
    "# Find the index with the maximum gold medals\n",
    "max_gold_index = 0\n",
    "max_gold_count = gold_medals[0]\n",
    "\n",
    "for i, count in enumerate(gold_medals):\n",
    "    if count > max_gold_count:\n",
    "        max_gold_count = count\n",
    "        max_gold_index = i\n",
    "\n",
    "# Print the country with the maximum gold medals\n",
    "print(\"Country with the maximum gold medals:\")\n",
    "print(countries[max_gold_index])\n",
    "print(\"Gold Medals:\", max_gold_count)\n"
   ]
  },
  {
   "cell_type": "code",
   "execution_count": 5,
   "id": "ea9001e2-1f3b-49ac-ba2e-1582b5c1d9e4",
   "metadata": {},
   "outputs": [
    {
     "name": "stdout",
     "output_type": "stream",
     "text": [
      "USA: Gold - 39, Silver - 41, Bronze - 33\n",
      "China: Gold - 38, Silver - 32, Bronze - 18\n",
      "Russia: Gold - 20, Silver - 28, Bronze - 23\n",
      "Japan: Gold - 27, Silver - 14, Bronze - 17\n",
      "Germany: Gold - 16, Silver - 10, Bronze - 15\n"
     ]
    }
   ],
   "source": [
    "# Example dataset of countries and their medal counts\n",
    "data = [\n",
    "    {\"Country\": \"USA\", \"Gold\": 39, \"Silver\": 41, \"Bronze\": 33},\n",
    "    {\"Country\": \"China\", \"Gold\": 38, \"Silver\": 32, \"Bronze\": 18},\n",
    "    {\"Country\": \"Russia\", \"Gold\": 20, \"Silver\": 28, \"Bronze\": 23},\n",
    "    {\"Country\": \"Japan\", \"Gold\": 27, \"Silver\": 14, \"Bronze\": 17},\n",
    "    {\"Country\": \"Germany\", \"Gold\": 16, \"Silver\": 10, \"Bronze\": 15}\n",
    "]\n",
    "\n",
    "# Print medal counts for each country\n",
    "for entry in data:\n",
    "    country = entry[\"Country\"]\n",
    "    gold = entry[\"Gold\"]\n",
    "    silver = entry[\"Silver\"]\n",
    "    bronze = entry[\"Bronze\"]\n",
    "    \n",
    "    print(f\"{country}: Gold - {gold}, Silver - {silver}, Bronze - {bronze}\")\n"
   ]
  },
  {
   "cell_type": "code",
   "execution_count": null,
   "id": "b0d16371-c0b2-4c79-a74a-25c1d47057ad",
   "metadata": {},
   "outputs": [],
   "source": []
  }
 ],
 "metadata": {
  "kernelspec": {
   "display_name": "Python 3 (ipykernel)",
   "language": "python",
   "name": "python3"
  },
  "language_info": {
   "codemirror_mode": {
    "name": "ipython",
    "version": 3
   },
   "file_extension": ".py",
   "mimetype": "text/x-python",
   "name": "python",
   "nbconvert_exporter": "python",
   "pygments_lexer": "ipython3",
   "version": "3.11.5"
  }
 },
 "nbformat": 4,
 "nbformat_minor": 5
}
