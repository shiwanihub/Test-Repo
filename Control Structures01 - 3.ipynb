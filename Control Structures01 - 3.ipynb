{
 "cells": [
  {
   "cell_type": "code",
   "execution_count": 2,
   "id": "6b2ae586-3ce5-4f1b-81a0-b904a2e51ffb",
   "metadata": {},
   "outputs": [],
   "source": [
    "my_list = [\"apple\", \"banana\", \"cherry\", \"date\", \"fig\"]\n"
   ]
  },
  {
   "cell_type": "code",
   "execution_count": 3,
   "id": "609e5153-a193-4447-95da-734aceda6c4c",
   "metadata": {},
   "outputs": [
    {
     "name": "stdin",
     "output_type": "stream",
     "text": [
      "Enter a string to search for:  apple\n"
     ]
    }
   ],
   "source": [
    "search_string = input(\"Enter a string to search for: \")\n"
   ]
  },
  {
   "cell_type": "code",
   "execution_count": 4,
   "id": "5fa511ee-9b2a-4653-90ca-7bbc54304380",
   "metadata": {},
   "outputs": [],
   "source": [
    "found = False\n"
   ]
  },
  {
   "cell_type": "code",
   "execution_count": 5,
   "id": "f61a83e4-b864-4fc8-b608-245b41d374be",
   "metadata": {},
   "outputs": [],
   "source": [
    "for item in my_list:\n",
    "    if item == search_string:\n",
    "        found = True\n",
    "        break\n"
   ]
  },
  {
   "cell_type": "code",
   "execution_count": 6,
   "id": "eb2331cd-997e-4585-a259-bb3d4e155335",
   "metadata": {},
   "outputs": [
    {
     "name": "stdout",
     "output_type": "stream",
     "text": [
      "apple found in the list.\n"
     ]
    }
   ],
   "source": [
    "if found:\n",
    "    print(f\"{search_string} found in the list.\")\n",
    "else:\n",
    "    print(f\"{search_string} not found in the list.\")\n",
    "\n",
    "\n",
    "\n",
    "\n",
    "\n"
   ]
  },
  {
   "cell_type": "code",
   "execution_count": null,
   "id": "0488c7e5-7e9b-4d43-a1c9-a7c74c717cfc",
   "metadata": {},
   "outputs": [],
   "source": []
  }
 ],
 "metadata": {
  "kernelspec": {
   "display_name": "Python 3 (ipykernel)",
   "language": "python",
   "name": "python3"
  },
  "language_info": {
   "codemirror_mode": {
    "name": "ipython",
    "version": 3
   },
   "file_extension": ".py",
   "mimetype": "text/x-python",
   "name": "python",
   "nbconvert_exporter": "python",
   "pygments_lexer": "ipython3",
   "version": "3.11.5"
  }
 },
 "nbformat": 4,
 "nbformat_minor": 5
}
