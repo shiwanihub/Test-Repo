{
 "cells": [
  {
   "cell_type": "code",
   "execution_count": 14,
   "id": "98250339-8501-4275-8216-ece4dc59d07b",
   "metadata": {},
   "outputs": [],
   "source": [
    "tuple1 = (10, 50, 20, 40, 30)\n"
   ]
  },
  {
   "cell_type": "code",
   "execution_count": 15,
   "id": "48a97a88-472c-40f2-b0d9-9313a680b322",
   "metadata": {},
   "outputs": [
    {
     "name": "stdout",
     "output_type": "stream",
     "text": [
      "Elements 10 and 50 from tuple1: 10 50\n"
     ]
    }
   ],
   "source": [
    "element1 = tuple1[0]\n",
    "element2 = tuple1[1]\n",
    "print(\"Elements 10 and 50 from tuple1:\", element1, element2)"
   ]
  },
  {
   "cell_type": "code",
   "execution_count": 16,
   "id": "6d804657-9ff4-4be3-846f-183da2eef5fd",
   "metadata": {},
   "outputs": [
    {
     "name": "stdout",
     "output_type": "stream",
     "text": [
      "Length of tuple1: 5\n"
     ]
    }
   ],
   "source": [
    "length = len(tuple1)\n",
    "print(\"Length of tuple1:\", length)\n"
   ]
  },
  {
   "cell_type": "code",
   "execution_count": 17,
   "id": "ca3ff1be-d4de-4620-8628-6d4100c28f76",
   "metadata": {},
   "outputs": [
    {
     "name": "stdout",
     "output_type": "stream",
     "text": [
      "Minimum element from tuple1: 10\n"
     ]
    }
   ],
   "source": [
    "min_element = min(tuple1)\n",
    "print(\"Minimum element from tuple1:\", min_element)\n"
   ]
  },
  {
   "cell_type": "code",
   "execution_count": 18,
   "id": "2d681f01-6d0e-4c3d-844a-d5be0a3ade5f",
   "metadata": {},
   "outputs": [
    {
     "name": "stdout",
     "output_type": "stream",
     "text": [
      "Sum of all elements in tuple1: 150\n"
     ]
    }
   ],
   "source": [
    "sum_elements = sum(tuple1)\n",
    "print(\"Sum of all elements in tuple1:\", sum_elements)\n"
   ]
  },
  {
   "cell_type": "code",
   "execution_count": 19,
   "id": "1f9a47ec-c5f9-47c7-92cc-fdefff6823d0",
   "metadata": {},
   "outputs": [
    {
     "name": "stdout",
     "output_type": "stream",
     "text": [
      "tuple1 repeated 3 times: (10, 50, 20, 40, 30, 10, 50, 20, 40, 30, 10, 50, 20, 40, 30)\n"
     ]
    }
   ],
   "source": [
    "times = 3  \n",
    "tuple_multiple_times = tuple1 * times\n",
    "print(\"tuple1 repeated\", times, \"times:\", tuple_multiple_times)"
   ]
  }
 ],
 "metadata": {
  "kernelspec": {
   "display_name": "Python 3 (ipykernel)",
   "language": "python",
   "name": "python3"
  },
  "language_info": {
   "codemirror_mode": {
    "name": "ipython",
    "version": 3
   },
   "file_extension": ".py",
   "mimetype": "text/x-python",
   "name": "python",
   "nbconvert_exporter": "python",
   "pygments_lexer": "ipython3",
   "version": "3.11.5"
  }
 },
 "nbformat": 4,
 "nbformat_minor": 5
}
