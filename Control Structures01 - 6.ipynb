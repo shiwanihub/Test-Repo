{
 "cells": [
  {
   "cell_type": "code",
   "execution_count": 1,
   "id": "643331f4-9442-414f-b831-f0db145a9a49",
   "metadata": {},
   "outputs": [
    {
     "name": "stdin",
     "output_type": "stream",
     "text": [
      "Enter a number:  8\n"
     ]
    }
   ],
   "source": [
    "number = int(input(\"Enter a number: \"))\n"
   ]
  },
  {
   "cell_type": "code",
   "execution_count": 2,
   "id": "7b470ee2-d279-42ae-b13f-67f48a1cc7c3",
   "metadata": {},
   "outputs": [
    {
     "name": "stdout",
     "output_type": "stream",
     "text": [
      "Table of 8:\n",
      "8 x 1 = 8\n",
      "8 x 2 = 16\n",
      "8 x 3 = 24\n",
      "8 x 4 = 32\n",
      "8 x 5 = 40\n",
      "8 x 6 = 48\n",
      "8 x 7 = 56\n",
      "8 x 8 = 64\n",
      "8 x 9 = 72\n",
      "8 x 10 = 80\n"
     ]
    }
   ],
   "source": [
    "print(f\"Table of {number}:\")\n",
    "for i in range(1, 11):\n",
    "    product = number * i\n",
    "    print(f\"{number} x {i} = {product}\")\n"
   ]
  }
 ],
 "metadata": {
  "kernelspec": {
   "display_name": "Python 3 (ipykernel)",
   "language": "python",
   "name": "python3"
  },
  "language_info": {
   "codemirror_mode": {
    "name": "ipython",
    "version": 3
   },
   "file_extension": ".py",
   "mimetype": "text/x-python",
   "name": "python",
   "nbconvert_exporter": "python",
   "pygments_lexer": "ipython3",
   "version": "3.11.5"
  }
 },
 "nbformat": 4,
 "nbformat_minor": 5
}
