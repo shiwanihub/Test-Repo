{
 "cells": [
  {
   "cell_type": "code",
   "execution_count": 1,
   "id": "57e23c16-bafc-4720-946d-7826e36547a1",
   "metadata": {},
   "outputs": [
    {
     "name": "stdout",
     "output_type": "stream",
     "text": [
      "Original List: [1, 2, 3, 4, 5]\n",
      "Rotated List (using slicing): [4, 5, 1, 2, 3]\n"
     ]
    }
   ],
   "source": [
    "def rotate_right_with_slicing(lst, n):\n",
    "    n = n % len(lst)  \n",
    "    rotated_list = lst[-n:] + lst[:-n]\n",
    "    return rotated_list\n",
    "\n",
    "\n",
    "my_list = [1, 2, 3, 4, 5]\n",
    "n = 2  # Number of times to rotate to the right\n",
    "\n",
    "rotated_list = rotate_right_with_slicing(my_list, n)\n",
    "print(f\"Original List: {my_list}\")\n",
    "print(f\"Rotated List (using slicing): {rotated_list}\")\n"
   ]
  },
  {
   "cell_type": "code",
   "execution_count": 2,
   "id": "105b33be-b93a-4246-af66-97dd10bde764",
   "metadata": {},
   "outputs": [
    {
     "name": "stdout",
     "output_type": "stream",
     "text": [
      "Original List: [4, 5, 1, 2, 3]\n",
      "Rotated List (without slicing): [4, 5, 1, 2, 3]\n"
     ]
    }
   ],
   "source": [
    "#without  slicing\n",
    "def rotate_right_without_slicing(lst, n):\n",
    "    n = n % len(lst)  \n",
    "    for _ in range(n):\n",
    "        last_element = lst.pop()\n",
    "        lst.insert(0, last_element)\n",
    "    return lst\n",
    "\n",
    "\n",
    "my_list = [1, 2, 3, 4, 5]\n",
    "n = 2  # Number of times to rotate to the right\n",
    "\n",
    "rotated_list = rotate_right_without_slicing(my_list, n)\n",
    "print(f\"Original List: {my_list}\")\n",
    "print(f\"Rotated List (without slicing): {rotated_list}\")\n"
   ]
  },
  {
   "cell_type": "code",
   "execution_count": null,
   "id": "c58d6d88-b268-4512-86a8-11fe02a01dc8",
   "metadata": {},
   "outputs": [],
   "source": []
  }
 ],
 "metadata": {
  "kernelspec": {
   "display_name": "Python 3 (ipykernel)",
   "language": "python",
   "name": "python3"
  },
  "language_info": {
   "codemirror_mode": {
    "name": "ipython",
    "version": 3
   },
   "file_extension": ".py",
   "mimetype": "text/x-python",
   "name": "python",
   "nbconvert_exporter": "python",
   "pygments_lexer": "ipython3",
   "version": "3.11.5"
  }
 },
 "nbformat": 4,
 "nbformat_minor": 5
}
