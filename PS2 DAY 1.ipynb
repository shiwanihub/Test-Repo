{
 "cells": [
  {
   "cell_type": "code",
   "execution_count": 22,
   "id": "3fdae64c-f381-49e6-8e67-b62525fb2835",
   "metadata": {},
   "outputs": [],
   "source": [
    "my_tuple = (1, 2, 3, 4, 5)"
   ]
  },
  {
   "cell_type": "code",
   "execution_count": 23,
   "id": "7fcab626-711e-493f-ba0d-5f717b1a618e",
   "metadata": {},
   "outputs": [],
   "source": [
    "new_element = 6\n",
    "my_tuple = my_tuple + (new_element,)"
   ]
  },
  {
   "cell_type": "code",
   "execution_count": 24,
   "id": "baef92c3-589e-403d-a3bc-a480d1fafd8a",
   "metadata": {},
   "outputs": [],
   "source": [
    "reversed_tuple = my_tuple[::-1]"
   ]
  },
  {
   "cell_type": "code",
   "execution_count": 25,
   "id": "392f2143-9057-4089-9389-76546958d4c2",
   "metadata": {},
   "outputs": [],
   "source": [
    "multiplied_tuple = my_tuple * 3"
   ]
  },
  {
   "cell_type": "code",
   "execution_count": 26,
   "id": "ad8a7e6a-27da-430a-bcbe-602298fc2692",
   "metadata": {},
   "outputs": [],
   "source": [
    "tuple1 = (7, 8)\n",
    "tuple2 = (9, 10)\n",
    "concatenated_tuple = tuple1 + tuple2"
   ]
  },
  {
   "cell_type": "code",
   "execution_count": 27,
   "id": "310409f3-628f-4db5-b891-5f77dc33cc4b",
   "metadata": {},
   "outputs": [],
   "source": [
    "sorted_tuple = tuple(sorted(my_tuple))"
   ]
  },
  {
   "cell_type": "code",
   "execution_count": 28,
   "id": "f7692c83-9994-4d2e-94b1-4fcd51b81da9",
   "metadata": {},
   "outputs": [
    {
     "name": "stdout",
     "output_type": "stream",
     "text": [
      "Original Tuple: (1, 2, 3, 4, 5, 6)\n",
      "Reversed Tuple: (6, 5, 4, 3, 2, 1)\n",
      "Multiplied Tuple: (1, 2, 3, 4, 5, 6, 1, 2, 3, 4, 5, 6, 1, 2, 3, 4, 5, 6)\n",
      "Concatenated Tuple: (7, 8, 9, 10)\n",
      "Sorted Tuple: (1, 2, 3, 4, 5, 6)\n"
     ]
    }
   ],
   "source": [
    "print(\"Original Tuple:\", my_tuple)\n",
    "print(\"Reversed Tuple:\", reversed_tuple)\n",
    "print(\"Multiplied Tuple:\", multiplied_tuple)\n",
    "print(\"Concatenated Tuple:\", concatenated_tuple)\n",
    "print(\"Sorted Tuple:\", sorted_tuple)"
   ]
  }
 ],
 "metadata": {
  "kernelspec": {
   "display_name": "Python 3 (ipykernel)",
   "language": "python",
   "name": "python3"
  },
  "language_info": {
   "codemirror_mode": {
    "name": "ipython",
    "version": 3
   },
   "file_extension": ".py",
   "mimetype": "text/x-python",
   "name": "python",
   "nbconvert_exporter": "python",
   "pygments_lexer": "ipython3",
   "version": "3.11.5"
  }
 },
 "nbformat": 4,
 "nbformat_minor": 5
}
