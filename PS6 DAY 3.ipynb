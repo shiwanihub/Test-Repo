{
 "cells": [
  {
   "cell_type": "code",
   "execution_count": null,
   "id": "e6947088-66ed-46d2-af8b-d4f735e16291",
   "metadata": {},
   "outputs": [],
   "source": [
    "def concatenate_text_files(input_files, output_file):\n",
    "    try:\n",
    "        with open(output_file, 'w') as output:\n",
    "            for input_file in input_files:\n",
    "                with open(input_file, 'r') as file:\n",
    "                    output.write(file.read())\n",
    "        print(f\"Concatenated {len(input_files)} files into {output_file}\")\n",
    "    except FileNotFoundError:\n",
    "        print(\"One or more input files not found.\")\n",
    "    except Exception as e:\n",
    "        print(f\"An error occurred: {e}\")\n",
    "\n",
    "if __name__ == \"__main__\":\n",
    "    input_files = []\n",
    "    while True:\n",
    "        file_name = input(\"Enter the name of an input file (or 'done' to finish): \")\n",
    "        if file_name.lower() == 'done':\n",
    "            break\n",
    "        input_files.append(file_name)\n",
    "\n",
    "    output_file = input(\"Enter the name of the output file: \")\n",
    "\n",
    "    concatenate_text_files(input_files, output_file)\n"
   ]
  },
  {
   "cell_type": "code",
   "execution_count": null,
   "id": "3f3869ce-f7fc-4341-bb7c-6cf58225f88b",
   "metadata": {},
   "outputs": [],
   "source": []
  }
 ],
 "metadata": {
  "kernelspec": {
   "display_name": "Python 3 (ipykernel)",
   "language": "python",
   "name": "python3"
  },
  "language_info": {
   "codemirror_mode": {
    "name": "ipython",
    "version": 3
   },
   "file_extension": ".py",
   "mimetype": "text/x-python",
   "name": "python",
   "nbconvert_exporter": "python",
   "pygments_lexer": "ipython3",
   "version": "3.11.5"
  }
 },
 "nbformat": 4,
 "nbformat_minor": 5
}
