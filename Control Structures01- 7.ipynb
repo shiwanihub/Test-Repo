{
 "cells": [
  {
   "cell_type": "code",
   "execution_count": 1,
   "id": "d9e5122b-571b-4676-9a6c-a20b25f3408c",
   "metadata": {},
   "outputs": [],
   "source": [
    "def is_prime(num):\n",
    "    if num <= 1:\n",
    "        return False\n",
    "    if num <= 3:\n",
    "        return True\n",
    "    if num % 2 == 0 or num % 3 == 0:\n",
    "        return False\n",
    "    i = 5\n",
    "    while i * i <= num:\n",
    "        if num % i == 0 or num % (i + 2) == 0:\n",
    "            return False\n",
    "        i += 6\n",
    "    return True\n"
   ]
  },
  {
   "cell_type": "code",
   "execution_count": 2,
   "id": "c6f0f82d-a08c-48df-b0a4-947f7fc6a1dd",
   "metadata": {},
   "outputs": [],
   "source": [
    "def sum_first_n_primes(N):\n",
    "    prime_numbers = []\n",
    "    num = 2  # Start with the first prime number\n",
    "    while len(prime_numbers) < N:\n",
    "        if is_prime(num):\n",
    "            prime_numbers.append(num)\n",
    "        num += 1\n",
    "    return sum(prime_numbers)"
   ]
  },
  {
   "cell_type": "code",
   "execution_count": 3,
   "id": "99332e5c-0628-4e1d-b0e4-80f4f4d17ded",
   "metadata": {},
   "outputs": [],
   "source": [
    "N = 10\n",
    "sum_of_primes = sum_first_n_primes(N)"
   ]
  },
  {
   "cell_type": "code",
   "execution_count": 4,
   "id": "ee29d8d4-cf10-47ab-bdae-d6fd0abfd1c4",
   "metadata": {},
   "outputs": [
    {
     "name": "stdout",
     "output_type": "stream",
     "text": [
      "The sum of the first 10 prime numbers is: 129\n"
     ]
    }
   ],
   "source": [
    "print(f\"The sum of the first {N} prime numbers is:\", sum_of_primes)\n"
   ]
  }
 ],
 "metadata": {
  "kernelspec": {
   "display_name": "Python 3 (ipykernel)",
   "language": "python",
   "name": "python3"
  },
  "language_info": {
   "codemirror_mode": {
    "name": "ipython",
    "version": 3
   },
   "file_extension": ".py",
   "mimetype": "text/x-python",
   "name": "python",
   "nbconvert_exporter": "python",
   "pygments_lexer": "ipython3",
   "version": "3.11.5"
  }
 },
 "nbformat": 4,
 "nbformat_minor": 5
}
