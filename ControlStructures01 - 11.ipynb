{
 "cells": [
  {
   "cell_type": "code",
   "execution_count": 1,
   "id": "c0e11e46-e4da-4375-ac90-1e6a8594da85",
   "metadata": {},
   "outputs": [],
   "source": [
    "days_per_month = 30\n",
    "hours_per_day = 24\n",
    "minutes_per_hour = 60\n",
    "seconds_per_minute = 60"
   ]
  },
  {
   "cell_type": "code",
   "execution_count": 2,
   "id": "130bb580-0154-4ff9-96d0-497eb889d633",
   "metadata": {},
   "outputs": [],
   "source": [
    "seconds_in_month = days_per_month * hours_per_day * minutes_per_hour * seconds_per_minute\n"
   ]
  },
  {
   "cell_type": "code",
   "execution_count": 3,
   "id": "0ddfbc2d-d5b9-483f-a278-4a92be20a75e",
   "metadata": {},
   "outputs": [
    {
     "name": "stdout",
     "output_type": "stream",
     "text": [
      "Number of seconds in a 30-day month: 2592000 seconds\n"
     ]
    }
   ],
   "source": [
    "print(f\"Number of seconds in a 30-day month: {seconds_in_month} seconds\")\n"
   ]
  }
 ],
 "metadata": {
  "kernelspec": {
   "display_name": "Python 3 (ipykernel)",
   "language": "python",
   "name": "python3"
  },
  "language_info": {
   "codemirror_mode": {
    "name": "ipython",
    "version": 3
   },
   "file_extension": ".py",
   "mimetype": "text/x-python",
   "name": "python",
   "nbconvert_exporter": "python",
   "pygments_lexer": "ipython3",
   "version": "3.11.5"
  }
 },
 "nbformat": 4,
 "nbformat_minor": 5
}
