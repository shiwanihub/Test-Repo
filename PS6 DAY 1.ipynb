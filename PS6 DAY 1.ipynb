{
 "cells": [
  {
   "cell_type": "code",
   "execution_count": 23,
   "id": "9db8fd78-dbf3-453d-bdd4-cd779001f78b",
   "metadata": {},
   "outputs": [],
   "source": [
    "my_dict = {\n",
    "    \"name\": \"Shiwani\",\n",
    "    \"age\": 21,\n",
    "    \"city\": \"Chennai\"\n",
    "}"
   ]
  },
  {
   "cell_type": "code",
   "execution_count": 24,
   "id": "038527c0-c28a-4cb7-b08e-9a6d4f6abcaa",
   "metadata": {},
   "outputs": [],
   "source": [
    "name_value = my_dict[\"name\"]\n",
    "age_value = my_dict[\"age\"]\n",
    "city_value = my_dict[\"city\"]\n"
   ]
  },
  {
   "cell_type": "code",
   "execution_count": 25,
   "id": "28f18b14-ebc7-4ea0-a098-261708e4d107",
   "metadata": {},
   "outputs": [
    {
     "name": "stdout",
     "output_type": "stream",
     "text": [
      "Values in the dictionary:\n",
      "Name: Shiwani\n",
      "Age: 21\n",
      "City: Chennai\n"
     ]
    }
   ],
   "source": [
    "print(\"Values in the dictionary:\")\n",
    "print(\"Name:\", name_value)\n",
    "print(\"Age:\", age_value)\n",
    "print(\"City:\", city_value)"
   ]
  },
  {
   "cell_type": "code",
   "execution_count": 26,
   "id": "a39395c1-ffb8-4baf-8a37-9f86022902ea",
   "metadata": {},
   "outputs": [],
   "source": [
    "def update_dict(dict, key, value):\n",
    "    dict[key] = value\n"
   ]
  },
  {
   "cell_type": "code",
   "execution_count": 27,
   "id": "8d25ed35-01ba-48d1-9305-c095733fbb3a",
   "metadata": {},
   "outputs": [],
   "source": [
    "update_dict(my_dict, \"age\", 21)  \n",
    "update_dict(my_dict, \"country\", \"INDIA\")"
   ]
  },
  {
   "cell_type": "code",
   "execution_count": 28,
   "id": "20f6dad2-3129-4dfc-82ba-95fe826c9a7e",
   "metadata": {},
   "outputs": [
    {
     "name": "stdout",
     "output_type": "stream",
     "text": [
      "\n",
      "Updated Dictionary:\n",
      "{'name': 'Shiwani', 'age': 21, 'city': 'Chennai', 'country': 'INDIA'}\n",
      "\n",
      "Cleared Dictionary:\n",
      "{}\n"
     ]
    }
   ],
   "source": [
    "print(\"\\nUpdated Dictionary:\")\n",
    "print(my_dict)\n",
    "\n",
    "my_dict.clear()  \n",
    "print(\"\\nCleared Dictionary:\")\n",
    "print(my_dict)"
   ]
  },
  {
   "cell_type": "code",
   "execution_count": 29,
   "id": "7cce637e-0d33-4e41-bef5-6b843593092a",
   "metadata": {},
   "outputs": [],
   "source": [
    "del my_dict"
   ]
  }
 ],
 "metadata": {
  "kernelspec": {
   "display_name": "Python 3 (ipykernel)",
   "language": "python",
   "name": "python3"
  },
  "language_info": {
   "codemirror_mode": {
    "name": "ipython",
    "version": 3
   },
   "file_extension": ".py",
   "mimetype": "text/x-python",
   "name": "python",
   "nbconvert_exporter": "python",
   "pygments_lexer": "ipython3",
   "version": "3.11.5"
  }
 },
 "nbformat": 4,
 "nbformat_minor": 5
}
