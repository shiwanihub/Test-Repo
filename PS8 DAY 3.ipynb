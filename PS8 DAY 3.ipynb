{
 "cells": [
  {
   "cell_type": "code",
   "execution_count": null,
   "id": "df2ebb39-74a2-48f0-bb3c-062cb5679d65",
   "metadata": {},
   "outputs": [
    {
     "name": "stdout",
     "output_type": "stream",
     "text": [
      "\n",
      "Student Gradebook System\n",
      "1. Input grades for a subject\n",
      "2. View grades for a subject\n",
      "3. Exit\n"
     ]
    }
   ],
   "source": [
    "import os\n",
    "\n",
    "\n",
    "def input_grades(subject):\n",
    "    try:\n",
    "        filename = f\"{subject}.txt\"\n",
    "        with open(filename, \"a\") as file:\n",
    "            while True:\n",
    "                student_name = input(\"Enter student name (or type 'exit' to finish): \")\n",
    "                if student_name.lower() == \"exit\":\n",
    "                    break\n",
    "                grade = input(f\"Enter {student_name}'s grade for {subject}: \")\n",
    "                file.write(f\"{student_name}: {grade}\\n\")\n",
    "        print(f\"Grades for {subject} have been saved.\")\n",
    "    except IOError as e:\n",
    "        print(f\"Error: {e}\")\n",
    "\n",
    "\n",
    "def view_grades(subject):\n",
    "    try:\n",
    "        filename = f\"{subject}.txt\"\n",
    "        with open(filename, \"r\") as file:\n",
    "            grades = file.read()\n",
    "            print(f\"Grades for {subject}:\\n{grades}\")\n",
    "    except FileNotFoundError:\n",
    "        print(f\"Grades for {subject} have not been recorded yet.\")\n",
    "    except IOError as e:\n",
    "        print(f\"Error: {e}\")\n",
    "\n",
    "# Main program\n",
    "while True:\n",
    "    print(\"\\nStudent Gradebook System\")\n",
    "    print(\"1. Input grades for a subject\")\n",
    "    print(\"2. View grades for a subject\")\n",
    "    print(\"3. Exit\")\n",
    "    \n",
    "    choice = input(\"Enter your choice: \")\n",
    "    \n",
    "    if choice == \"1\":\n",
    "        subject = input(\"Enter the subject: \")\n",
    "        input_grades(subject)\n",
    "    elif choice == \"2\":\n",
    "        subject = input(\"Enter the subject: \")\n",
    "        view_grades(subject)\n",
    "    elif choice == \"3\":\n",
    "        break\n",
    "    else:\n",
    "        print(\"Invalid choice. Please try again.\")\n"
   ]
  },
  {
   "cell_type": "code",
   "execution_count": null,
   "id": "e61bd982-3421-49bb-a35c-0a2df0ebd7de",
   "metadata": {},
   "outputs": [],
   "source": []
  }
 ],
 "metadata": {
  "kernelspec": {
   "display_name": "Python 3 (ipykernel)",
   "language": "python",
   "name": "python3"
  },
  "language_info": {
   "codemirror_mode": {
    "name": "ipython",
    "version": 3
   },
   "file_extension": ".py",
   "mimetype": "text/x-python",
   "name": "python",
   "nbconvert_exporter": "python",
   "pygments_lexer": "ipython3",
   "version": "3.11.5"
  }
 },
 "nbformat": 4,
 "nbformat_minor": 5
}
