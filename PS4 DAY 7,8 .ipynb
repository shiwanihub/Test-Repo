{
 "cells": [
  {
   "cell_type": "code",
   "execution_count": null,
   "id": "5efc5306-fdf3-425a-90f3-189903d916db",
   "metadata": {},
   "outputs": [],
   "source": [
    "def insertion_sort(arr):\n",
    "    sorted_list = []  \n",
    "\n",
    "    for element in arr:\n",
    "        if not sorted_list:\n",
    "            sorted_list.append(element)\n",
    "        else:\n",
    "            i = 0\n",
    "            while i < len(sorted_list) and element > sorted_list[i]:\n",
    "                i += 1\n",
    "            sorted_list.insert(i, element)\n",
    "\n",
    "    return sorted_list\n",
    "\n",
    "# Get the input list from the user\n",
    "input_list = input(\"Enter a list of elements separated by spaces: \").split()\n",
    "input_list = [int(x) for x in input_list]  \n",
    "\n",
    "# Perform insertion sort\n",
    "sorted_result = insertion_sort(input_list)\n",
    "\n",
    "\n",
    "print(\"Sorted list:\", sorted_result)\n"
   ]
  },
  {
   "cell_type": "code",
   "execution_count": null,
   "id": "ace64334-af39-4905-b6bc-a7bac4d0b395",
   "metadata": {},
   "outputs": [],
   "source": []
  }
 ],
 "metadata": {
  "kernelspec": {
   "display_name": "Python 3 (ipykernel)",
   "language": "python",
   "name": "python3"
  },
  "language_info": {
   "codemirror_mode": {
    "name": "ipython",
    "version": 3
   },
   "file_extension": ".py",
   "mimetype": "text/x-python",
   "name": "python",
   "nbconvert_exporter": "python",
   "pygments_lexer": "ipython3",
   "version": "3.11.5"
  }
 },
 "nbformat": 4,
 "nbformat_minor": 5
}
