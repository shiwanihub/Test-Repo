{
 "cells": [
  {
   "cell_type": "code",
   "execution_count": 1,
   "id": "912e1958-3600-4215-bcc9-f5df51b053ea",
   "metadata": {},
   "outputs": [
    {
     "name": "stdout",
     "output_type": "stream",
     "text": [
      "Queue: [5, 10, 15]\n",
      "Deleted item: 5\n",
      "Queue: [10, 15]\n"
     ]
    }
   ],
   "source": [
    "class Queue:\n",
    "    def __init__(self):\n",
    "        self.items = []\n",
    "\n",
    "    def insert(self, item):\n",
    "        self.items.append(item)\n",
    "\n",
    "    def delete(self):\n",
    "        if not self.is_empty():\n",
    "            return self.items.pop(0)\n",
    "        else:\n",
    "            return \"Queue is empty\"\n",
    "\n",
    "    def is_empty(self):\n",
    "        return len(self.items) == 0\n",
    "\n",
    "    def display(self):\n",
    "        if not self.is_empty():\n",
    "            return self.items\n",
    "        else:\n",
    "            return \"Queue is empty\"\n",
    "\n",
    "\n",
    "# Create a queue and perform operations\n",
    "if __name__ == \"__main__\":\n",
    "    queue = Queue()\n",
    "\n",
    "    # Insert elements into the queue\n",
    "    queue.insert(5)\n",
    "    queue.insert(10)\n",
    "    queue.insert(15)\n",
    "\n",
    "    # Display the queue\n",
    "    print(\"Queue:\", queue.display())\n",
    "\n",
    "    # Delete an element\n",
    "    deleted_item = queue.delete()\n",
    "    print(\"Deleted item:\", deleted_item)\n",
    "\n",
    "    # Display the updated queue\n",
    "    print(\"Queue:\", queue.display())\n"
   ]
  },
  {
   "cell_type": "code",
   "execution_count": null,
   "id": "641e2c2d-f58e-4986-b621-430ac970430a",
   "metadata": {},
   "outputs": [],
   "source": []
  }
 ],
 "metadata": {
  "kernelspec": {
   "display_name": "Python 3 (ipykernel)",
   "language": "python",
   "name": "python3"
  },
  "language_info": {
   "codemirror_mode": {
    "name": "ipython",
    "version": 3
   },
   "file_extension": ".py",
   "mimetype": "text/x-python",
   "name": "python",
   "nbconvert_exporter": "python",
   "pygments_lexer": "ipython3",
   "version": "3.11.5"
  }
 },
 "nbformat": 4,
 "nbformat_minor": 5
}
