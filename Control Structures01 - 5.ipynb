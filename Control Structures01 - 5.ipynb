{
 "cells": [
  {
   "cell_type": "code",
   "execution_count": 1,
   "id": "8b88abba-b57a-4909-9fe1-37f5771ca934",
   "metadata": {},
   "outputs": [],
   "source": [
    "sum_odd = 0\n",
    "sum_even = 0\n"
   ]
  },
  {
   "cell_type": "code",
   "execution_count": 2,
   "id": "0ecf09bc-c85f-4227-807b-6e4e875a2a67",
   "metadata": {},
   "outputs": [],
   "source": [
    "for num in range(12, 38):\n",
    "    if num % 2 == 0:  # Check if the number is even\n",
    "        sum_even += num\n",
    "    else:\n",
    "        sum_odd += num\n",
    "\n"
   ]
  },
  {
   "cell_type": "code",
   "execution_count": 3,
   "id": "421f902d-61d0-4c1c-8f84-8d10c0575952",
   "metadata": {},
   "outputs": [
    {
     "name": "stdout",
     "output_type": "stream",
     "text": [
      "Sum of even numbers between 12 and 37: 312\n",
      "Sum of odd numbers between 12 and 37: 325\n"
     ]
    }
   ],
   "source": [
    "print(\"Sum of even numbers between 12 and 37:\", sum_even)\n",
    "print(\"Sum of odd numbers between 12 and 37:\", sum_odd)\n"
   ]
  }
 ],
 "metadata": {
  "kernelspec": {
   "display_name": "Python 3 (ipykernel)",
   "language": "python",
   "name": "python3"
  },
  "language_info": {
   "codemirror_mode": {
    "name": "ipython",
    "version": 3
   },
   "file_extension": ".py",
   "mimetype": "text/x-python",
   "name": "python",
   "nbconvert_exporter": "python",
   "pygments_lexer": "ipython3",
   "version": "3.11.5"
  }
 },
 "nbformat": 4,
 "nbformat_minor": 5
}
