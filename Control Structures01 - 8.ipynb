{
 "cells": [
  {
   "cell_type": "code",
   "execution_count": 5,
   "id": "df192097-755a-41e0-8837-c6f28e42563a",
   "metadata": {},
   "outputs": [
    {
     "name": "stdin",
     "output_type": "stream",
     "text": [
      "Enter the first number:  7\n",
      "Enter the second number:  7\n",
      "Enter the operation (+, -, *, /):  *\n"
     ]
    }
   ],
   "source": [
    "num1 = float(input(\"Enter the first number: \"))\n",
    "num2 = float(input(\"Enter the second number: \"))\n",
    "operation = input(\"Enter the operation (+, -, *, /): \")\n"
   ]
  },
  {
   "cell_type": "code",
   "execution_count": 6,
   "id": "dc27bfc7-8869-4e2d-98be-1cdd53f7b5b2",
   "metadata": {},
   "outputs": [],
   "source": [
    "result = None\n"
   ]
  },
  {
   "cell_type": "code",
   "execution_count": 7,
   "id": "47003790-5795-463a-8d72-166b4e920471",
   "metadata": {},
   "outputs": [],
   "source": [
    "if operation == '+':\n",
    "    result = num1 + num2\n",
    "elif operation == '-':\n",
    "    result = num1 - num2\n",
    "elif operation == '*':\n",
    "    result = num1 * num2\n",
    "elif operation == '/':\n",
    "    if num2 != 0:  # Check for division by zero\n",
    "        result = num1 / num2\n",
    "    else:\n",
    "        print(\"Error: Division by zero is not allowed.\")\n",
    "else:\n",
    "    print(\"Error: Invalid operation\")"
   ]
  },
  {
   "cell_type": "code",
   "execution_count": 8,
   "id": "17599e08-30ca-49f0-94e5-0117299d7c64",
   "metadata": {},
   "outputs": [
    {
     "name": "stdout",
     "output_type": "stream",
     "text": [
      "Result: 7.0 * 7.0 = 49.0\n"
     ]
    }
   ],
   "source": [
    "if result is not None:\n",
    "    print(f\"Result: {num1} {operation} {num2} = {result}\")\n"
   ]
  }
 ],
 "metadata": {
  "kernelspec": {
   "display_name": "Python 3 (ipykernel)",
   "language": "python",
   "name": "python3"
  },
  "language_info": {
   "codemirror_mode": {
    "name": "ipython",
    "version": 3
   },
   "file_extension": ".py",
   "mimetype": "text/x-python",
   "name": "python",
   "nbconvert_exporter": "python",
   "pygments_lexer": "ipython3",
   "version": "3.11.5"
  }
 },
 "nbformat": 4,
 "nbformat_minor": 5
}
