{
 "cells": [
  {
   "cell_type": "code",
   "execution_count": null,
   "id": "01388285-3a54-4da2-9e6f-f9da2fd356c5",
   "metadata": {},
   "outputs": [],
   "source": [
    "import mysql.connector\n",
    "\n",
    "# Replace 'your_username', 'your_password', and 'your_database' with your MySQL credentials.\n",
    "conn = mysql.connector.connect(\n",
    "    host=\"localhost\",\n",
    "    user=\"your_username\",\n",
    "    password=\"your_password\",\n",
    "    database=\"your_database\"\n",
    ")\n"
   ]
  },
  {
   "cell_type": "code",
   "execution_count": null,
   "id": "b1d375eb-991a-45ae-8752-6b7d7156fb8c",
   "metadata": {},
   "outputs": [],
   "source": [
    "def add_purchase(product_id, quantity, purchase_date):\n",
    "    cursor = conn.cursor()\n",
    "    sql = \"INSERT INTO Purchases (product_id, quantity, purchase_date) VALUES (%s, %s, %s)\"\n",
    "    values = (product_id, quantity, purchase_date)\n",
    "    cursor.execute(sql, values)\n",
    "    conn.commit()\n",
    "    cursor.close()\n",
    "\n",
    "# Call the function to add a purchase\n",
    "add_purchase(1, 10, '2023-09-18')\n"
   ]
  }
 ],
 "metadata": {
  "kernelspec": {
   "display_name": "Python 3 (ipykernel)",
   "language": "python",
   "name": "python3"
  },
  "language_info": {
   "codemirror_mode": {
    "name": "ipython",
    "version": 3
   },
   "file_extension": ".py",
   "mimetype": "text/x-python",
   "name": "python",
   "nbconvert_exporter": "python",
   "pygments_lexer": "ipython3",
   "version": "3.11.5"
  }
 },
 "nbformat": 4,
 "nbformat_minor": 5
}
