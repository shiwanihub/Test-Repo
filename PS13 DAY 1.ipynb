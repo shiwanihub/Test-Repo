{
 "cells": [
  {
   "cell_type": "code",
   "execution_count": 1,
   "id": "21bb44b3-c61d-444c-961a-a8db7771893d",
   "metadata": {},
   "outputs": [],
   "source": [
    "WeightOnEarth = {'John': 45, 'Shelly': 65, 'Marry': 35}\n"
   ]
  },
  {
   "cell_type": "code",
   "execution_count": 2,
   "id": "084b863d-816c-4c3d-95f6-251c017d6ec0",
   "metadata": {},
   "outputs": [],
   "source": [
    "GMoon = 1.622\n",
    "GEarth = 9.81"
   ]
  },
  {
   "cell_type": "code",
   "execution_count": 3,
   "id": "da2d01b8-e173-4fa3-90cb-e5553e89b821",
   "metadata": {},
   "outputs": [],
   "source": [
    "WeightOnMoon = map(lambda weight: (weight * GMoon) / GEarth, WeightOnEarth.values())\n"
   ]
  },
  {
   "cell_type": "code",
   "execution_count": 4,
   "id": "0b12d663-0af1-431d-97fb-213ccda80e62",
   "metadata": {},
   "outputs": [],
   "source": [
    "WeightOnMoonDict = dict(zip(WeightOnEarth.keys(), WeightOnMoon))\n"
   ]
  },
  {
   "cell_type": "code",
   "execution_count": 5,
   "id": "d2c8b9b6-1e41-40a8-87e6-aa7ef8d1e4ff",
   "metadata": {},
   "outputs": [
    {
     "name": "stdout",
     "output_type": "stream",
     "text": [
      "Weight of people on the Moon:\n",
      "John: 7.44 kg on the Moon\n",
      "Shelly: 10.75 kg on the Moon\n",
      "Marry: 5.79 kg on the Moon\n"
     ]
    }
   ],
   "source": [
    "print(\"Weight of people on the Moon:\")\n",
    "for name, weight_moon in WeightOnMoonDict.items():\n",
    "    print(f\"{name}: {weight_moon:.2f} kg on the Moon\")"
   ]
  }
 ],
 "metadata": {
  "kernelspec": {
   "display_name": "Python 3 (ipykernel)",
   "language": "python",
   "name": "python3"
  },
  "language_info": {
   "codemirror_mode": {
    "name": "ipython",
    "version": 3
   },
   "file_extension": ".py",
   "mimetype": "text/x-python",
   "name": "python",
   "nbconvert_exporter": "python",
   "pygments_lexer": "ipython3",
   "version": "3.11.5"
  }
 },
 "nbformat": 4,
 "nbformat_minor": 5
}
