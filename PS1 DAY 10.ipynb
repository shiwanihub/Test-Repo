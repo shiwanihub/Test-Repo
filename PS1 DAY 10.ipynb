{
 "cells": [
  {
   "cell_type": "code",
   "execution_count": 16,
   "id": "13707b72-a27e-409c-b9b4-8af482e5cfb5",
   "metadata": {},
   "outputs": [
    {
     "name": "stdout",
     "output_type": "stream",
     "text": [
      "                  title  year\n",
      "0    Tasveer mere sanam  1996\n",
      "1              Only You  1994\n",
      "2  El pueblo del terror  1970\n",
      "3               Machine  2007\n",
      "4                  MARy  2008\n"
     ]
    }
   ],
   "source": [
    "import pandas as pd\n",
    "\n",
    "# Create the 'titles' DataFrame with your data\n",
    "data = {\n",
    "    'title': [\n",
    "        'Tasveer mere sanam',\n",
    "        'Only You',\n",
    "        'El pueblo del terror',\n",
    "        'Machine',\n",
    "        'MARy'\n",
    "    ],\n",
    "    'year': [\n",
    "        1996,\n",
    "        1994,\n",
    "        1970,\n",
    "        2007,\n",
    "        2008\n",
    "    ]\n",
    "}\n",
    "\n",
    "titles = pd.DataFrame(data)\n",
    "\n",
    "# Print the 'titles' DataFrame\n",
    "print(titles)\n"
   ]
  },
  {
   "cell_type": "code",
   "execution_count": 17,
   "id": "10c944aa-5880-45d2-824c-2b53ed9eb18b",
   "metadata": {},
   "outputs": [],
   "source": [
    "# Save the 'titles' DataFrame to a CSV file\n",
    "titles.to_csv('data/titles.csv', index=False)\n"
   ]
  },
  {
   "cell_type": "code",
   "execution_count": 18,
   "id": "f2827883-7305-4ae4-a0ed-3e27d91fd348",
   "metadata": {},
   "outputs": [
    {
     "data": {
      "text/html": [
       "<div>\n",
       "<style scoped>\n",
       "    .dataframe tbody tr th:only-of-type {\n",
       "        vertical-align: middle;\n",
       "    }\n",
       "\n",
       "    .dataframe tbody tr th {\n",
       "        vertical-align: top;\n",
       "    }\n",
       "\n",
       "    .dataframe thead th {\n",
       "        text-align: right;\n",
       "    }\n",
       "</style>\n",
       "<table border=\"1\" class=\"dataframe\">\n",
       "  <thead>\n",
       "    <tr style=\"text-align: right;\">\n",
       "      <th></th>\n",
       "      <th>title</th>\n",
       "      <th>year</th>\n",
       "    </tr>\n",
       "  </thead>\n",
       "  <tbody>\n",
       "    <tr>\n",
       "      <th>0</th>\n",
       "      <td>Tasveer mere sanam</td>\n",
       "      <td>1996</td>\n",
       "    </tr>\n",
       "    <tr>\n",
       "      <th>1</th>\n",
       "      <td>Only You</td>\n",
       "      <td>1994</td>\n",
       "    </tr>\n",
       "    <tr>\n",
       "      <th>2</th>\n",
       "      <td>El pueblo del terror</td>\n",
       "      <td>1970</td>\n",
       "    </tr>\n",
       "    <tr>\n",
       "      <th>3</th>\n",
       "      <td>Machine</td>\n",
       "      <td>2007</td>\n",
       "    </tr>\n",
       "    <tr>\n",
       "      <th>4</th>\n",
       "      <td>MARy</td>\n",
       "      <td>2008</td>\n",
       "    </tr>\n",
       "  </tbody>\n",
       "</table>\n",
       "</div>"
      ],
      "text/plain": [
       "                  title  year\n",
       "0    Tasveer mere sanam  1996\n",
       "1              Only You  1994\n",
       "2  El pueblo del terror  1970\n",
       "3               Machine  2007\n",
       "4                  MARy  2008"
      ]
     },
     "execution_count": 18,
     "metadata": {},
     "output_type": "execute_result"
    }
   ],
   "source": [
    "%matplotlib inline\n",
    "import pandas as pd\n",
    "\n",
    "from IPython.core.display import HTML\n",
    "css = open('style-table.css').read() + open('style-notebook.css').read()\n",
    "HTML('<style>{}</style>'.format(css))\n",
    "\n",
    "# Read the 'titles.csv' file\n",
    "titles = pd.read_csv('data/titles.csv')\n",
    "titles.head()"
   ]
  },
  {
   "cell_type": "code",
   "execution_count": 19,
   "id": "a5907e10-95cb-45ed-8246-de8c60bc15fb",
   "metadata": {},
   "outputs": [
    {
     "name": "stdout",
     "output_type": "stream",
     "text": [
      "Number of movies: 5\n"
     ]
    }
   ],
   "source": [
    "import pandas as pd\n",
    "\n",
    "# Create a dictionary with your data\n",
    "data = {\n",
    "    \"title\": [\n",
    "        \"Tasveer Mere Sanam\",\n",
    "        \"Only You 1994\",\n",
    "        \"El pueblo del terror\",\n",
    "        \"Machine 2007\",\n",
    "        \"MARy 2008\"\n",
    "    ],\n",
    "    \"year\": [\n",
    "        1996,\n",
    "        1994,\n",
    "        1970,\n",
    "        2007,\n",
    "        2008\n",
    "    ]\n",
    "}\n",
    "\n",
    "# Create a DataFrame\n",
    "df = pd.DataFrame(data)\n",
    "\n",
    "# Count the number of movie titles\n",
    "num_movies = df.shape[0]\n",
    "\n",
    "print(\"Number of movies:\", num_movies)\n"
   ]
  },
  {
   "cell_type": "code",
   "execution_count": 20,
   "id": "c65dab8d-d8b6-470f-8c2d-298d98823768",
   "metadata": {},
   "outputs": [
    {
     "name": "stdout",
     "output_type": "stream",
     "text": [
      "The earliest two films listed in the titles DataFrame are:\n",
      "                  title  year\n",
      "2  El pueblo del terror  1970\n",
      "1         Only You 1994  1994\n"
     ]
    }
   ],
   "source": [
    "import pandas as pd\n",
    "\n",
    "# Create a dictionary with your data\n",
    "data = {\n",
    "    \"title\": [\n",
    "        \"Tasveer Mere Sanam\",\n",
    "        \"Only You 1994\",\n",
    "        \"El pueblo del terror\",\n",
    "        \"Machine 2007\",\n",
    "        \"MARy 2008\"\n",
    "    ],\n",
    "    \"year\": [\n",
    "        1996,\n",
    "        1994,\n",
    "        1970,\n",
    "        2007,\n",
    "        2008\n",
    "    ]\n",
    "}\n",
    "\n",
    "# Create a DataFrame\n",
    "df = pd.DataFrame(data)\n",
    "\n",
    "# Sort the DataFrame by the \"year\" column in ascending order\n",
    "df_sorted = df.sort_values(by='year')\n",
    "\n",
    "# Select the top two rows (earliest two films)\n",
    "earliest_films = df_sorted.head(2)\n",
    "\n",
    "print(\"The earliest two films listed in the titles DataFrame are:\")\n",
    "print(earliest_films)\n"
   ]
  },
  {
   "cell_type": "code",
   "execution_count": 25,
   "id": "76441d38-95e7-44c9-8722-e088fd8d665e",
   "metadata": {},
   "outputs": [
    {
     "name": "stdout",
     "output_type": "stream",
     "text": [
      "Number of movies with the title 'Hamlet': 4\n"
     ]
    }
   ],
   "source": [
    "import pandas as pd\n",
    "\n",
    "# Assuming you have a DataFrame called \"titles\" with the movie titles and years\n",
    "\n",
    "# Create a DataFrame\n",
    "df = pd.DataFrame({\n",
    "    \"title\": [\n",
    "        \"Tasveer Mere Sanam\",\n",
    "        \"Only You 1994\",\n",
    "        \"Hamlet\",\n",
    "        \"Hamlet (1990)\",\n",
    "        \"Hamlet (2000)\",\n",
    "        \"El pueblo del terror\",\n",
    "        \"Machine 2007\",\n",
    "        \"MARy 2008\",\n",
    "        \"Hamlet (2010)\"\n",
    "    ]\n",
    "})\n",
    "\n",
    "# Count the number of movies with the title \"Hamlet\"\n",
    "num_hamlet_movies = df[df['title'].str.contains('Hamlet', case=False)].shape[0]\n",
    "\n",
    "print(\"Number of movies with the title 'Hamlet':\", num_hamlet_movies)\n"
   ]
  },
  {
   "cell_type": "code",
   "execution_count": 26,
   "id": "62cc8a3c-41a3-4057-9f76-ef72e05b6b0e",
   "metadata": {},
   "outputs": [
    {
     "name": "stdout",
     "output_type": "stream",
     "text": [
      "Number of movies with the title 'North by Northwest': 5\n"
     ]
    }
   ],
   "source": [
    "import pandas as pd\n",
    "\n",
    "# Assuming you have a DataFrame called \"titles\" with the movie titles and years\n",
    "\n",
    "# Create a DataFrame\n",
    "df = pd.DataFrame({\n",
    "    \"title\": [\n",
    "        \"Tasveer Mere Sanam\",\n",
    "        \"North by Northwest\",\n",
    "        \"North by Northwest (1959)\",\n",
    "        \"North by Northwest (2000)\",\n",
    "        \"North by Northwest (2015)\",\n",
    "        \"El pueblo del terror\",\n",
    "        \"Machine 2007\",\n",
    "        \"MARy 2008\",\n",
    "        \"North by Northwest (1990)\"\n",
    "    ]\n",
    "})\n",
    "\n",
    "# Count the number of movies with the title \"North by Northwest\"\n",
    "num_nbnw_movies = df[df['title'].str.contains('North by Northwest', case=False)].shape[0]\n",
    "\n",
    "print(\"Number of movies with the title 'North by Northwest':\", num_nbnw_movies)\n"
   ]
  },
  {
   "cell_type": "code",
   "execution_count": 27,
   "id": "82f8feb6-113f-4f0c-8788-22bcf98d6b49",
   "metadata": {},
   "outputs": [
    {
     "name": "stdout",
     "output_type": "stream",
     "text": [
      "Number of movies with the title 'Hamlet': 4\n"
     ]
    }
   ],
   "source": [
    "import pandas as pd\n",
    "\n",
    "# Create a DataFrame\n",
    "df = pd.DataFrame({\n",
    "    \"title\": [\n",
    "        \"Tasveer Mere Sanam\",\n",
    "        \"Only You 1994\",\n",
    "        \"Hamlet\",\n",
    "        \"Hamlet (1990)\",\n",
    "        \"Hamlet (2000)\",\n",
    "        \"El pueblo del terror\",\n",
    "        \"Machine 2007\",\n",
    "        \"MARy 2008\",\n",
    "        \"Hamlet (2010)\"\n",
    "    ]\n",
    "})\n",
    "\n",
    "# Count the number of movies with the title \"Hamlet\"\n",
    "num_hamlet_movies = df[df['title'].str.contains('Hamlet', case=False)].shape[0]\n",
    "\n",
    "print(\"Number of movies with the title 'Hamlet':\", num_hamlet_movies)\n"
   ]
  },
  {
   "cell_type": "code",
   "execution_count": 33,
   "id": "f0451529-41d4-4878-a059-b9db2dc5759d",
   "metadata": {},
   "outputs": [
    {
     "name": "stdout",
     "output_type": "stream",
     "text": [
      "List of 'Treasure Island' movies from earliest to most recent:\n",
      "Treasure Island (1950) (1950)\n",
      "Treasure Island (1972) (1972)\n",
      "Treasure Island (1990) (1990)\n",
      "Treasure Island (2002) (2002)\n",
      "Treasure Island (2015) (2015)\n"
     ]
    },
    {
     "name": "stderr",
     "output_type": "stream",
     "text": [
      "C:\\Users\\New\\AppData\\Local\\Temp\\ipykernel_12648\\509120287.py:27: SettingWithCopyWarning: \n",
      "A value is trying to be set on a copy of a slice from a DataFrame.\n",
      "Try using .loc[row_indexer,col_indexer] = value instead\n",
      "\n",
      "See the caveats in the documentation: https://pandas.pydata.org/pandas-docs/stable/user_guide/indexing.html#returning-a-view-versus-a-copy\n",
      "  treasure_island_movies['year'] = treasure_island_movies['title'].str.extract(r'(\\d{4})')\n"
     ]
    }
   ],
   "source": [
    "import pandas as pd\n",
    "\n",
    "# Create a DataFrame with movie titles and years\n",
    "data = {\n",
    "    \"title\": [\n",
    "        \"Tasveer Mere Sanam\",\n",
    "        \"Only You 1994\",\n",
    "        \"El pueblo del terror\",\n",
    "        \"Machine 2007\",\n",
    "        \"MARy 2008\",\n",
    "        \"Treasure Island (1950)\",\n",
    "        \"Treasure Island (1972)\",\n",
    "        \"Treasure Island (1990)\",\n",
    "        \"Treasure Island (2002)\",\n",
    "        \"Treasure Island (2015)\",\n",
    "        \"Mysterious Island\",\n",
    "        \"Pirates of the Caribbean: Dead Man's Chest\",\n",
    "        \"Treasure Planet\"\n",
    "    ]\n",
    "}\n",
    "\n",
    "# Create a DataFrame\n",
    "df = pd.DataFrame(data)\n",
    "\n",
    "# Filter and sort the DataFrame for \"Treasure Island\" movies\n",
    "treasure_island_movies = df[df['title'].str.contains('Treasure Island', case=False)]\n",
    "treasure_island_movies['year'] = treasure_island_movies['title'].str.extract(r'(\\d{4})')\n",
    "treasure_island_movies = treasure_island_movies.sort_values(by='year')\n",
    "\n",
    "# Print the list of \"Treasure Island\" movies from earliest to most recent\n",
    "print(\"List of 'Treasure Island' movies from earliest to most recent:\")\n",
    "for index, row in treasure_island_movies.iterrows():\n",
    "    print(f\"{row['title']} ({row['year']})\")\n"
   ]
  },
  {
   "cell_type": "code",
   "execution_count": 34,
   "id": "b236098e-7f3f-42a1-a73a-548664d46345",
   "metadata": {},
   "outputs": [
    {
     "name": "stdout",
     "output_type": "stream",
     "text": [
      "Number of movies made in the year 1950: 1\n"
     ]
    }
   ],
   "source": [
    "import pandas as pd\n",
    "\n",
    "# Create a DataFrame with movie titles and years (replace with your actual data)\n",
    "data = {\n",
    "    \"title\": [\n",
    "        \"Tasveer Mere Sanam\",\n",
    "        \"Only You 1994\",\n",
    "        \"El pueblo del terror\",\n",
    "        \"Machine 2007\",\n",
    "        \"MARy 2008\",\n",
    "        \"Treasure Island (1950)\",\n",
    "        \"Treasure Island (1972)\",\n",
    "        \"Treasure Island (1990)\",\n",
    "        \"Treasure Island (2002)\",\n",
    "        \"Treasure Island (2015)\",\n",
    "        \"Mysterious Island\",\n",
    "        \"Pirates of the Caribbean: Dead Man's Chest\",\n",
    "        \"Treasure Planet\"\n",
    "    ]\n",
    "}\n",
    "\n",
    "# Create a DataFrame\n",
    "df = pd.DataFrame(data)\n",
    "\n",
    "# Extract the release years\n",
    "df['year'] = df['title'].str.extract(r'(\\d{4})')\n",
    "\n",
    "# Filter for movies made in the year 1950\n",
    "movies_1950 = df[df['year'] == '1950']\n",
    "\n",
    "# Count the number of movies made in 1950\n",
    "num_movies_1950 = movies_1950.shape[0]\n",
    "\n",
    "print(\"Number of movies made in the year 1950:\", num_movies_1950)\n"
   ]
  },
  {
   "cell_type": "code",
   "execution_count": 35,
   "id": "e2dfcff1-8e09-4baf-9e91-5aea9bc609cf",
   "metadata": {},
   "outputs": [
    {
     "name": "stdout",
     "output_type": "stream",
     "text": [
      "Number of movies made in the year 1960: 0\n"
     ]
    }
   ],
   "source": [
    "import pandas as pd\n",
    "\n",
    "# Create a DataFrame with movie titles and years (replace with your actual data)\n",
    "data = {\n",
    "    \"title\": [\n",
    "        \"Tasveer Mere Sanam\",\n",
    "        \"Only You 1994\",\n",
    "        \"El pueblo del terror\",\n",
    "        \"Machine 2007\",\n",
    "        \"MARy 2008\",\n",
    "        \"Treasure Island (1950)\",\n",
    "        \"Treasure Island (1972)\",\n",
    "        \"Treasure Island (1990)\",\n",
    "        \"Treasure Island (2002)\",\n",
    "        \"Treasure Island (2015)\",\n",
    "        \"Mysterious Island (1961)\",\n",
    "        \"Pirates of the Caribbean: Dead Man's Chest\",\n",
    "        \"Treasure Planet\"\n",
    "    ]\n",
    "}\n",
    "\n",
    "# Create a DataFrame\n",
    "df = pd.DataFrame(data)\n",
    "\n",
    "# Extract the release years\n",
    "df['year'] = df['title'].str.extract(r'(\\d{4})')\n",
    "\n",
    "# Filter for movies made in the year 1960\n",
    "movies_1960 = df[df['year'] == '1960']\n",
    "\n",
    "# Count the number of movies made in 1960\n",
    "num_movies_1960 = movies_1960.shape[0]\n",
    "\n",
    "print(\"Number of movies made in the year 1960:\", num_movies_1960)\n"
   ]
  },
  {
   "cell_type": "code",
   "execution_count": 36,
   "id": "fadc1974-af7e-475b-9ccb-0b7a5d409ea2",
   "metadata": {},
   "outputs": [
    {
     "name": "stdout",
     "output_type": "stream",
     "text": [
      "Number of movies made from 1950 through 1959: 2\n"
     ]
    }
   ],
   "source": [
    "import pandas as pd\n",
    "\n",
    "# Create a DataFrame with movie titles and years (replace with your actual data)\n",
    "data = {\n",
    "    \"title\": [\n",
    "        \"Tasveer Mere Sanam\",\n",
    "        \"Only You 1994\",\n",
    "        \"El pueblo del terror\",\n",
    "        \"Machine 2007\",\n",
    "        \"MARy 2008\",\n",
    "        \"Treasure Island (1950)\",\n",
    "        \"Treasure Island (1972)\",\n",
    "        \"Treasure Island (1990)\",\n",
    "        \"Treasure Island (2002)\",\n",
    "        \"Treasure Island (2015)\",\n",
    "        \"Mysterious Island (1961)\",\n",
    "        \"Pirates of the Caribbean: Dead Man's Chest\",\n",
    "        \"Treasure Planet (1950)\",\n",
    "        \"The Great Escape (1963)\"\n",
    "    ]\n",
    "}\n",
    "\n",
    "# Create a DataFrame\n",
    "df = pd.DataFrame(data)\n",
    "\n",
    "# Extract the release years\n",
    "df['year'] = df['title'].str.extract(r'(\\d{4})')\n",
    "\n",
    "# Filter for movies made from 1950 through 1959\n",
    "movies_1950s = df[df['year'].between('1950', '1959')]\n",
    "\n",
    "# Count the number of movies made in the 1950s\n",
    "num_movies_1950s = movies_1950s.shape[0]\n",
    "\n",
    "print(\"Number of movies made from 1950 through 1959:\", num_movies_1950s)\n"
   ]
  },
  {
   "cell_type": "code",
   "execution_count": 37,
   "id": "0e7066bc-e1c3-4120-8ecf-c76343be3dcb",
   "metadata": {},
   "outputs": [
    {
     "name": "stdout",
     "output_type": "stream",
     "text": [
      "The movie 'BATMAN (1989)' was released in the year 1989.\n",
      "The movie 'BATMAN (1992)' was released in the year 1992.\n",
      "The movie 'BATMAN (2005)' was released in the year 2005.\n"
     ]
    }
   ],
   "source": [
    "import pandas as pd\n",
    "\n",
    "# Create a DataFrame with movie titles and years (replace with your actual data)\n",
    "data = {\n",
    "    \"title\": [\n",
    "        \"Tasveer Mere Sanam\",\n",
    "        \"Only You 1994\",\n",
    "        \"El pueblo del terror\",\n",
    "        \"Machine 2007\",\n",
    "        \"MARy 2008\",\n",
    "        \"Treasure Island (1950)\",\n",
    "        \"Treasure Island (1972)\",\n",
    "        \"Treasure Island (1990)\",\n",
    "        \"Treasure Island (2002)\",\n",
    "        \"Treasure Island (2015)\",\n",
    "        \"Mysterious Island (1961)\",\n",
    "        \"Pirates of the Caribbean: Dead Man's Chest\",\n",
    "        \"Treasure Planet (1950)\",\n",
    "        \"The Great Escape (1963)\",\n",
    "        \"BATMAN (1989)\",\n",
    "        \"BATMAN (1992)\",\n",
    "        \"BATMAN (2005)\"\n",
    "    ]\n",
    "}\n",
    "\n",
    "# Create a DataFrame\n",
    "df = pd.DataFrame(data)\n",
    "\n",
    "# Extract the release years\n",
    "df['year'] = df['title'].str.extract(r'(\\d{4})')\n",
    "\n",
    "# Filter for movies titled \"BATMAN\"\n",
    "batman_movies = df[df['title'].str.contains('BATMAN', case=False)]\n",
    "\n",
    "# Print the release years of \"BATMAN\" movies\n",
    "for index, row in batman_movies.iterrows():\n",
    "    print(f\"The movie '{row['title']}' was released in the year {row['year']}.\")\n"
   ]
  },
  {
   "cell_type": "code",
   "execution_count": null,
   "id": "842e4785-fe23-4ae3-944d-eb7a465a2ca6",
   "metadata": {},
   "outputs": [],
   "source": []
  }
 ],
 "metadata": {
  "kernelspec": {
   "display_name": "Python 3 (ipykernel)",
   "language": "python",
   "name": "python3"
  },
  "language_info": {
   "codemirror_mode": {
    "name": "ipython",
    "version": 3
   },
   "file_extension": ".py",
   "mimetype": "text/x-python",
   "name": "python",
   "nbconvert_exporter": "python",
   "pygments_lexer": "ipython3",
   "version": "3.11.5"
  }
 },
 "nbformat": 4,
 "nbformat_minor": 5
}
