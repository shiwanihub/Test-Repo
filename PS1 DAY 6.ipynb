{
 "cells": [
  {
   "cell_type": "code",
   "execution_count": 1,
   "id": "ba0dd322-9214-44c6-8110-ca46bc6f30be",
   "metadata": {},
   "outputs": [
    {
     "name": "stdout",
     "output_type": "stream",
     "text": [
      "Circle Area: 78.5\n",
      "Circle Perimeter: 31.400000000000002\n",
      "Rectangle Area: 24\n",
      "Rectangle Perimeter: 20\n"
     ]
    }
   ],
   "source": [
    "# Base class \"Shape\"\n",
    "class Shape:\n",
    "    def calculate_area(self):\n",
    "        pass\n",
    "\n",
    "    def calculate_perimeter(self):\n",
    "        pass\n",
    "\n",
    "# Derived class \"Circle\"\n",
    "class Circle(Shape):\n",
    "    def __init__(self, radius):\n",
    "        self.radius = radius\n",
    "\n",
    "    def calculate_area(self):\n",
    "        return 3.14 * self.radius * self.radius\n",
    "\n",
    "    def calculate_perimeter(self):\n",
    "        return 2 * 3.14 * self.radius\n",
    "\n",
    "# Derived class \"Rectangle\"\n",
    "class Rectangle(Shape):\n",
    "    def __init__(self, length, width):\n",
    "        self.length = length\n",
    "        self.width = width\n",
    "\n",
    "    def calculate_area(self):\n",
    "        return self.length * self.width\n",
    "\n",
    "    def calculate_perimeter(self):\n",
    "        return 2 * (self.length + self.width)\n",
    "\n",
    "# Demonstrate their usage\n",
    "if __name__ == \"__main__\":\n",
    "    circle = Circle(5)\n",
    "    print(f\"Circle Area: {circle.calculate_area()}\")\n",
    "    print(f\"Circle Perimeter: {circle.calculate_perimeter()}\")\n",
    "\n",
    "    rectangle = Rectangle(4, 6)\n",
    "    print(f\"Rectangle Area: {rectangle.calculate_area()}\")\n",
    "    print(f\"Rectangle Perimeter: {rectangle.calculate_perimeter()}\")\n"
   ]
  },
  {
   "cell_type": "code",
   "execution_count": 2,
   "id": "fdf2fe27-424e-44da-8b2a-07dd6badaaa6",
   "metadata": {},
   "outputs": [
    {
     "name": "stdout",
     "output_type": "stream",
     "text": [
      "Your score on the General Knowledge Quiz is: 100.0%\n"
     ]
    }
   ],
   "source": [
    "class Question:\n",
    "    def __init__(self, text, options, correct_answer):\n",
    "        self.text = text\n",
    "        self.options = options\n",
    "        self.correct_answer = correct_answer\n",
    "\n",
    "    def is_correct(self, user_answer):\n",
    "        return user_answer == self.correct_answer\n",
    "\n",
    "class Quiz:\n",
    "    def __init__(self, name, questions):\n",
    "        self.name = name\n",
    "        self.questions = questions\n",
    "\n",
    "    def calculate_score(self, user_answers):\n",
    "        num_correct = 0\n",
    "        for i in range(len(self.questions)):\n",
    "            if self.questions[i].is_correct(user_answers[i]):\n",
    "                num_correct += 1\n",
    "        return (num_correct / len(self.questions)) * 100\n",
    "\n",
    "# Example usage\n",
    "if __name__ == \"__main__\":\n",
    "    q1 = Question(\"What is the capital of France?\", [\"London\", \"Paris\", \"Berlin\", \"Madrid\"], 1)\n",
    "    q2 = Question(\"What is 2 + 2?\", [\"3\", \"4\", \"5\", \"6\"], 1)\n",
    "    q3 = Question(\"What is the largest mammal?\", [\"Elephant\", \"Giraffe\", \"Whale\", \"Kangaroo\"], 2)\n",
    "\n",
    "    quiz = Quiz(\"General Knowledge Quiz\", [q1, q2, q3])\n",
    "\n",
    "    user_answers = [1, 1, 2]  # User's answers for each question (0-based)\n",
    "\n",
    "    score = quiz.calculate_score(user_answers)\n",
    "    print(f\"Your score on the {quiz.name} is: {score}%\")\n"
   ]
  },
  {
   "cell_type": "code",
   "execution_count": null,
   "id": "48b4b367-5932-4bac-98f0-32543ed5fd95",
   "metadata": {},
   "outputs": [],
   "source": []
  }
 ],
 "metadata": {
  "kernelspec": {
   "display_name": "Python 3 (ipykernel)",
   "language": "python",
   "name": "python3"
  },
  "language_info": {
   "codemirror_mode": {
    "name": "ipython",
    "version": 3
   },
   "file_extension": ".py",
   "mimetype": "text/x-python",
   "name": "python",
   "nbconvert_exporter": "python",
   "pygments_lexer": "ipython3",
   "version": "3.11.5"
  }
 },
 "nbformat": 4,
 "nbformat_minor": 5
}
