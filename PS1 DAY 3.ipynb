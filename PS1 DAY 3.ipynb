{
 "cells": [
  {
   "cell_type": "code",
   "execution_count": 3,
   "id": "a395d7fd-e457-491d-97d3-85081f90ab8a",
   "metadata": {},
   "outputs": [],
   "source": [
    "def copy_file(input_file, output_file):\n",
    "    try:\n",
    "        with open(input_file, 'rb') as source_file, open(output_file, 'wb') as destination_file:\n",
    "            while True:\n",
    "                chunk = source_file.read(50)\n",
    "                if not chunk:\n",
    "                    break\n",
    "                destination_file.write(chunk)\n",
    "        print(\"File copied successfully!\")\n",
    "    except FileNotFoundError:\n",
    "        print(\"File not found.\")\n",
    "    except Exception as e:\n",
    "        print(f\"An error occurred: {str(e)}\")\n",
    "\n"
   ]
  },
  {
   "cell_type": "code",
   "execution_count": null,
   "id": "9c3ce495-b461-405e-a9fb-dbe93d40eed8",
   "metadata": {},
   "outputs": [],
   "source": []
  },
  {
   "cell_type": "code",
   "execution_count": null,
   "id": "db683973-9c23-422b-8570-4f356ad5d39f",
   "metadata": {},
   "outputs": [],
   "source": []
  }
 ],
 "metadata": {
  "kernelspec": {
   "display_name": "Python 3 (ipykernel)",
   "language": "python",
   "name": "python3"
  },
  "language_info": {
   "codemirror_mode": {
    "name": "ipython",
    "version": 3
   },
   "file_extension": ".py",
   "mimetype": "text/x-python",
   "name": "python",
   "nbconvert_exporter": "python",
   "pygments_lexer": "ipython3",
   "version": "3.11.5"
  }
 },
 "nbformat": 4,
 "nbformat_minor": 5
}
