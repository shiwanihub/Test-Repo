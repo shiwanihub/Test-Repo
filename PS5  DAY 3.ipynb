{
 "cells": [
  {
   "cell_type": "code",
   "execution_count": 4,
   "id": "59e62174-7c81-406a-b5b6-a8f5e78fb2cb",
   "metadata": {},
   "outputs": [
    {
     "name": "stdout",
     "output_type": "stream",
     "text": [
      "Error: Log file not found.\n"
     ]
    }
   ],
   "source": [
    "from collections import Counter\n",
    "\n",
    "\n",
    "def analyze_log_file(logfile.txt):\n",
    "\n",
    "    unique_users = set()\n",
    "    action_count = Counter()\n",
    "\n",
    "    try:\n",
    "        with open(logfile.txt, 'r') as file:\n",
    "            for line in file:\n",
    "                \n",
    "                timestamp, user_id, action = line.strip().split(',')\n",
    "                \n",
    "                \n",
    "                unique_users.add(user_id)\n",
    "                action_count[action] += 1\n",
    "\n",
    "        # Print the results\n",
    "        print(\"Number of unique users:\", len(unique_users))\n",
    "        most_common_action, most_common_count = action_count.most_common(1)[0]\n",
    "        print(\"Most common action:\", most_common_action)\n",
    "        print(\"Count of the most common action:\", most_common_count)\n",
    "    \n",
    "    except FileNotFoundError:\n",
    "        print(\"Error: Log file not found.\")\n",
    "    except Exception as e:\n",
    "        print(f\"An error occurred: {str(e)}\")\n",
    "\n",
    "\n",
    "log_file_path = \"logfile.txt\"  \n",
    "analyze_log_file(log_file_path)\n"
   ]
  },
  {
   "cell_type": "code",
   "execution_count": 6,
   "id": "51cb8bec-637e-4aa1-9523-5384356634a3",
   "metadata": {},
   "outputs": [
    {
     "name": "stdout",
     "output_type": "stream",
     "text": [
      "Error: Log file not found.\n"
     ]
    }
   ],
   "source": [
    "from collections import Counter\n",
    "\n",
    "\n",
    "def analyze_large_log_file(file_path):\n",
    "    unique_users = set()\n",
    "    action_count = Counter()\n",
    "\n",
    "    try:\n",
    "        with open(file_path, 'r') as file:\n",
    "            for line in file:\n",
    "                timestamp, user_id, action = line.strip().split(',')\n",
    "                \n",
    "                unique_users.add(user_id)\n",
    "                action_count[action] += 1\n",
    "\n",
    "        print(\"Number of unique users:\", len(unique_users))\n",
    "        most_common_action, most_common_count = action_count.most_common(1)[0]\n",
    "        print(\"Most common action:\", most_common_action)\n",
    "        print(\"Count of the most common action:\", most_common_count)\n",
    "    \n",
    "    except FileNotFoundError:\n",
    "        print(\"Error: Log file not found.\")\n",
    "    except Exception as e:\n",
    "        print(f\"An error occurred: {str(e)}\")\n",
    "\n",
    "\n",
    "log_file_path = \"logfile.txt\"  \n",
    "analyze_large_log_file(log_file_path)\n"
   ]
  },
  {
   "cell_type": "code",
   "execution_count": null,
   "id": "f2f29523-ea51-41ee-b8d1-ab2f9bf6bedf",
   "metadata": {},
   "outputs": [],
   "source": []
  }
 ],
 "metadata": {
  "kernelspec": {
   "display_name": "Python 3 (ipykernel)",
   "language": "python",
   "name": "python3"
  },
  "language_info": {
   "codemirror_mode": {
    "name": "ipython",
    "version": 3
   },
   "file_extension": ".py",
   "mimetype": "text/x-python",
   "name": "python",
   "nbconvert_exporter": "python",
   "pygments_lexer": "ipython3",
   "version": "3.11.5"
  }
 },
 "nbformat": 4,
 "nbformat_minor": 5
}
