{
 "cells": [
  {
   "cell_type": "code",
   "execution_count": null,
   "id": "c2a7d0da-6f3d-489b-95b4-d986de5c47ac",
   "metadata": {},
   "outputs": [],
   "source": [
    "CREATE TABLE departments (\n",
    "    department_id SERIAL PRIMARY KEY,\n",
    "    department_name VARCHAR(255) NOT NULL\n",
    ");\n",
    "\n",
    "CREATE TABLE employees (\n",
    "    employee_id SERIAL PRIMARY KEY,\n",
    "    first_name VARCHAR(255) NOT NULL,\n",
    "    last_name VARCHAR(255) NOT NULL,\n",
    "    salary DECIMAL(10, 2),\n",
    "    hire_date DATE,\n",
    "    department_id INT,\n",
    "    FOREIGN KEY (department_id) REFERENCES departments(department_id)\n",
    ");\n"
   ]
  },
  {
   "cell_type": "code",
   "execution_count": null,
   "id": "81a13b73-8abb-4c1a-88ab-92dff361b99c",
   "metadata": {},
   "outputs": [],
   "source": [
    "import psycopg2\n",
    "\n",
    "# Connect to the database\n",
    "conn = psycopg2.connect(\n",
    "    dbname=\"PS7\",\n",
    "    user=\"root\",\n",
    "    password=\"your_password\",\n",
    "    host=\"localhost\",\n",
    "    port=\"your_port\"\n",
    ")\n",
    "\n",
    "\n",
    "cursor = conn.cursor()\n",
    "\n",
    "department_name = \"Sales\"\n",
    "\n",
    "\n",
    "cursor.execute(\"\"\"\n",
    "    SELECT first_name, last_name, salary, hire_date\n",
    "    FROM employees\n",
    "    INNER JOIN departments ON employees.department_id = departments.department_id\n",
    "    WHERE departments.department_name = %s\n",
    "\"\"\", (department_name,))\n",
    "\n",
    "\n",
    "employees = cursor.fetchall()\n",
    "\n",
    "\n",
    "cursor.close()\n",
    "conn.close()\n",
    "\n",
    "\n",
    "for employee in employees:\n",
    "    print(employee)\n"
   ]
  },
  {
   "cell_type": "code",
   "execution_count": null,
   "id": "62ca7522-cd43-4df9-ae3a-754971496d44",
   "metadata": {},
   "outputs": [],
   "source": [
    "\n",
    "employee_first_name = \"John\"\n",
    "employee_last_name = \"Doe\"\n",
    "\n",
    "\n",
    "new_salary = 60000.00\n",
    "\n",
    "# Update the employee's salary\n",
    "cursor.execute(\"\"\"\n",
    "    UPDATE employees\n",
    "    SET salary = %s\n",
    "    WHERE first_name = %s AND last_name = %s\n",
    "\"\"\", (new_salary, employee_first_name, employee_last_name))\n",
    "\n",
    "\n",
    "conn.commit()\n",
    "\n",
    "\n",
    "cursor.close()\n",
    "conn.close()\n"
   ]
  }
 ],
 "metadata": {
  "kernelspec": {
   "display_name": "Python 3 (ipykernel)",
   "language": "python",
   "name": "python3"
  },
  "language_info": {
   "codemirror_mode": {
    "name": "ipython",
    "version": 3
   },
   "file_extension": ".py",
   "mimetype": "text/x-python",
   "name": "python",
   "nbconvert_exporter": "python",
   "pygments_lexer": "ipython3",
   "version": "3.11.5"
  }
 },
 "nbformat": 4,
 "nbformat_minor": 5
}
