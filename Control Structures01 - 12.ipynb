{
 "cells": [
  {
   "cell_type": "code",
   "execution_count": 1,
   "id": "f00a158a-ccf3-4621-82ec-67b3f8503d7e",
   "metadata": {},
   "outputs": [
    {
     "name": "stdout",
     "output_type": "stream",
     "text": [
      "Number of seconds in a year: 31536000 seconds\n"
     ]
    }
   ],
   "source": [
    "# Constants\n",
    "days_per_year = 365  # Assuming a non-leap year\n",
    "hours_per_day = 24\n",
    "minutes_per_hour = 60\n",
    "seconds_per_minute = 60\n",
    "\n",
    "# Calculate the number of seconds in a year\n",
    "seconds_in_a_year = days_per_year * hours_per_day * minutes_per_hour * seconds_per_minute\n",
    "\n",
    "# Display the result\n",
    "print(f\"Number of seconds in a year: {seconds_in_a_year} seconds\")\n"
   ]
  }
 ],
 "metadata": {
  "kernelspec": {
   "display_name": "Python 3 (ipykernel)",
   "language": "python",
   "name": "python3"
  },
  "language_info": {
   "codemirror_mode": {
    "name": "ipython",
    "version": 3
   },
   "file_extension": ".py",
   "mimetype": "text/x-python",
   "name": "python",
   "nbconvert_exporter": "python",
   "pygments_lexer": "ipython3",
   "version": "3.11.5"
  }
 },
 "nbformat": 4,
 "nbformat_minor": 5
}
