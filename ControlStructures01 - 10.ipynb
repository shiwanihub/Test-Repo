{
 "cells": [
  {
   "cell_type": "code",
   "execution_count": 4,
   "id": "70947797-c24c-4e13-8512-b6c754e35e80",
   "metadata": {},
   "outputs": [
    {
     "name": "stdout",
     "output_type": "stream",
     "text": [
      "Maximum value: 15\n",
      "Minimum value: 1\n"
     ]
    }
   ],
   "source": [
    "# Function to find the maximum and minimum numbers in a list\n",
    "def find_max_min(numbers):\n",
    "    if not numbers:\n",
    "        return None, None  # Return None for empty list\n",
    "\n",
    "    # Initialize variables to store the maximum and minimum\n",
    "    max_num = numbers[0]\n",
    "    min_num = numbers[0]\n",
    "\n",
    "    for num in numbers:\n",
    "        if num > max_num:\n",
    "            max_num = num\n",
    "        if num < min_num:\n",
    "            min_num = num\n",
    "\n",
    "    return max_num, min_num\n",
    "\n",
    "# Example list\n",
    "my_list = [5, 10, 2, 8, 1, 15]\n",
    "\n",
    "# Call the function to find the maximum and minimum\n",
    "max_value, min_value = find_max_min(my_list)\n",
    "\n",
    "if max_value is not None and min_value is not None:\n",
    "    print(\"Maximum value:\", max_value)\n",
    "    print(\"Minimum value:\", min_value)\n",
    "else:\n",
    "    print(\"The list is empty.\")\n"
   ]
  }
 ],
 "metadata": {
  "kernelspec": {
   "display_name": "Python 3 (ipykernel)",
   "language": "python",
   "name": "python3"
  },
  "language_info": {
   "codemirror_mode": {
    "name": "ipython",
    "version": 3
   },
   "file_extension": ".py",
   "mimetype": "text/x-python",
   "name": "python",
   "nbconvert_exporter": "python",
   "pygments_lexer": "ipython3",
   "version": "3.11.5"
  }
 },
 "nbformat": 4,
 "nbformat_minor": 5
}
