{
 "cells": [
  {
   "cell_type": "code",
   "execution_count": null,
   "id": "11649bf3-f058-4297-8350-5c88d1ad3d7c",
   "metadata": {},
   "outputs": [],
   "source": [
    "project/\n",
    "    main.py\n",
    "    mymodule.py\n",
    "    module1.py\n",
    "    module2.py\n"
   ]
  },
  {
   "cell_type": "code",
   "execution_count": null,
   "id": "1ee3c405-1b23-45b4-aaa1-bac78236f697",
   "metadata": {},
   "outputs": [],
   "source": [
    "# main.py\n",
    "\n",
    "# Import modules from the same directory\n",
    "import mymodule\n",
    "import module1\n",
    "import module2\n",
    "\n",
    "# Access functions, classes, and variables from imported modules\n",
    "result1 = module1.add(2, 3)\n",
    "result2 = module2.multiply(4, 5)\n",
    "\n",
    "# Access custom module functions and variables\n",
    "custom_result = mymodule.custom_function(6, 7)\n",
    "custom_variable = mymodule.custom_variable\n",
    "\n",
    "print(f\"Result from module1: {result1}\")\n",
    "print(f\"Result from module2: {result2}\")\n",
    "print(f\"Custom Result: {custom_result}\")\n",
    "print(f\"Custom Variable: {custom_variable}\")\n"
   ]
  },
  {
   "cell_type": "code",
   "execution_count": null,
   "id": "79439573-66f1-4e01-b804-68147b44f85f",
   "metadata": {},
   "outputs": [],
   "source": [
    "# mymodule.py\n",
    "\n",
    "def custom_function(a, b):\n",
    "    return a + b\n",
    "\n",
    "custom_variable = \"This is a custom variable\"\n"
   ]
  },
  {
   "cell_type": "code",
   "execution_count": null,
   "id": "868589fe-a59a-474c-bd3b-920b43c4ff9e",
   "metadata": {},
   "outputs": [],
   "source": [
    "# main.py\n",
    "\n",
    "import module1 as m1\n",
    "import module2 as m2\n",
    "\n",
    "result1 = m1.add(2, 3)\n",
    "result2 = m2.multiply(4, 5)\n",
    "\n",
    "print(f\"Result from module1: {result1}\")\n",
    "print(f\"Result from module2: {result2}\")\n"
   ]
  },
  {
   "cell_type": "code",
   "execution_count": null,
   "id": "c6467471-e6d7-41b9-b998-7a3d974c9fbb",
   "metadata": {},
   "outputs": [],
   "source": []
  }
 ],
 "metadata": {
  "kernelspec": {
   "display_name": "Python 3 (ipykernel)",
   "language": "python",
   "name": "python3"
  },
  "language_info": {
   "codemirror_mode": {
    "name": "ipython",
    "version": 3
   },
   "file_extension": ".py",
   "mimetype": "text/x-python",
   "name": "python",
   "nbconvert_exporter": "python",
   "pygments_lexer": "ipython3",
   "version": "3.11.5"
  }
 },
 "nbformat": 4,
 "nbformat_minor": 5
}
