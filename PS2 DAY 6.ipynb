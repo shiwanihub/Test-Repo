{
 "cells": [
  {
   "cell_type": "code",
   "execution_count": 1,
   "id": "1931eb08-21f2-4b3b-aa29-f841c67b90a1",
   "metadata": {},
   "outputs": [
    {
     "name": "stdout",
     "output_type": "stream",
     "text": [
      "25\n",
      "Alice is eligible to vote.\n",
      "16\n",
      "Bob is not eligible to vote.\n"
     ]
    }
   ],
   "source": [
    "class Person:\n",
    "    def __init__(self, name, age):\n",
    "        self.__name = name\n",
    "        self.__age = age  \n",
    "\n",
    "    \n",
    "    def get_age(self):\n",
    "        return self.__age\n",
    "\n",
    "    # Method to check eligibility for voting\n",
    "    def check_voting_eligibility(self):\n",
    "        if self.__age >= 18:\n",
    "            return f\"{self.__name} is eligible to vote.\"\n",
    "        else:\n",
    "            return f\"{self.__name} is not eligible to vote.\"\n",
    "\n",
    "\n",
    "person1 = Person(\"Alice\", 25)\n",
    "person2 = Person(\"Bob\", 16)\n",
    "\n",
    "print(person1.get_age())  \n",
    "print(person1.check_voting_eligibility())\n",
    "\n",
    "print(person2.get_age())  \n",
    "print(person2.check_voting_eligibility())\n"
   ]
  },
  {
   "cell_type": "code",
   "execution_count": null,
   "id": "d41f4e78-0972-4282-a8a7-7a6a66601f6e",
   "metadata": {},
   "outputs": [],
   "source": []
  }
 ],
 "metadata": {
  "kernelspec": {
   "display_name": "Python 3 (ipykernel)",
   "language": "python",
   "name": "python3"
  },
  "language_info": {
   "codemirror_mode": {
    "name": "ipython",
    "version": 3
   },
   "file_extension": ".py",
   "mimetype": "text/x-python",
   "name": "python",
   "nbconvert_exporter": "python",
   "pygments_lexer": "ipython3",
   "version": "3.11.5"
  }
 },
 "nbformat": 4,
 "nbformat_minor": 5
}
