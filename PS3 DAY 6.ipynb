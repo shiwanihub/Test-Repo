{
 "cells": [
  {
   "cell_type": "code",
   "execution_count": 1,
   "id": "18385843-06e7-4ffe-9ddf-151b90ec9fbf",
   "metadata": {},
   "outputs": [
    {
     "name": "stdout",
     "output_type": "stream",
     "text": [
      "John Doe's Savings Account Balance: $1537.5\n",
      "Jane Smith's Checking Account Balance: $0.0\n"
     ]
    }
   ],
   "source": [
    "class BankAccount:\n",
    "    def __init__(self, account_number, account_holder_name, balance=0.0):\n",
    "        self._account_number = account_number\n",
    "        self._account_holder_name = account_holder_name\n",
    "        self._balance = balance\n",
    "\n",
    "    def deposit(self, amount):\n",
    "        if amount > 0:\n",
    "            self._balance += amount\n",
    "            return True\n",
    "        else:\n",
    "            print(\"Deposit amount must be greater than 0.\")\n",
    "            return False\n",
    "\n",
    "    def withdraw(self, amount):\n",
    "        if amount > 0 and amount <= self._balance:\n",
    "            self._balance -= amount\n",
    "            return True\n",
    "        else:\n",
    "            print(\"Withdrawal amount exceeds balance or is invalid.\")\n",
    "            return False\n",
    "\n",
    "    def get_balance(self):\n",
    "        return self._balance\n",
    "\n",
    "    def get_account_number(self):\n",
    "        return self._account_number\n",
    "\n",
    "    def get_account_holder_name(self):\n",
    "        return self._account_holder_name\n",
    "\n",
    "\n",
    "class SavingsAccount(BankAccount):\n",
    "    def __init__(self, account_number, account_holder_name, balance=0.0, interest_rate=0.0):\n",
    "        super().__init__(account_number, account_holder_name, balance)\n",
    "        self._interest_rate = interest_rate\n",
    "\n",
    "    def calculate_interest(self):\n",
    "        interest = self._balance * (self._interest_rate / 100)\n",
    "        self._balance += interest\n",
    "        return interest\n",
    "\n",
    "\n",
    "class CheckingAccount(BankAccount):\n",
    "    def __init__(self, account_number, account_holder_name, balance=0.0, overdraft_limit=0.0):\n",
    "        super().__init__(account_number, account_holder_name, balance)\n",
    "        self._overdraft_limit = overdraft_limit\n",
    "\n",
    "    def withdraw(self, amount):\n",
    "        if amount <= self._balance + self._overdraft_limit:\n",
    "            self._balance -= amount\n",
    "            return True\n",
    "        else:\n",
    "            print(\"Withdrawal amount exceeds balance and overdraft limit.\")\n",
    "            return False\n",
    "\n",
    "\n",
    "# Demonstration\n",
    "if __name__ == \"__main__\":\n",
    "    # Creating instances\n",
    "    savings = SavingsAccount(\"SAV123\", \"John Doe\", 1000.0, 2.5)\n",
    "    checking = CheckingAccount(\"CHK456\", \"Jane Smith\", 500.0, 200.0)\n",
    "\n",
    "    # Deposits and withdrawals\n",
    "    savings.deposit(500)\n",
    "    savings.calculate_interest()\n",
    "    checking.deposit(200)\n",
    "    checking.withdraw(700)\n",
    "\n",
    "    # Displaying account info\n",
    "    print(f\"{savings.get_account_holder_name()}'s Savings Account Balance: ${savings.get_balance()}\")\n",
    "    print(f\"{checking.get_account_holder_name()}'s Checking Account Balance: ${checking.get_balance()}\")\n"
   ]
  },
  {
   "cell_type": "code",
   "execution_count": null,
   "id": "51456249-e189-4b4a-a590-2a48172b5ff8",
   "metadata": {},
   "outputs": [],
   "source": []
  }
 ],
 "metadata": {
  "kernelspec": {
   "display_name": "Python 3 (ipykernel)",
   "language": "python",
   "name": "python3"
  },
  "language_info": {
   "codemirror_mode": {
    "name": "ipython",
    "version": 3
   },
   "file_extension": ".py",
   "mimetype": "text/x-python",
   "name": "python",
   "nbconvert_exporter": "python",
   "pygments_lexer": "ipython3",
   "version": "3.11.5"
  }
 },
 "nbformat": 4,
 "nbformat_minor": 5
}
