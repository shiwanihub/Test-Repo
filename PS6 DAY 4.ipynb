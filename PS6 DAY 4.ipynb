{
 "cells": [
  {
   "cell_type": "code",
   "execution_count": null,
   "id": "d85f1f83-e800-4a22-a826-f91a1fb3c45f",
   "metadata": {},
   "outputs": [],
   "source": [
    "import sys\n",
    "\n",
    "def process_files(input_path, output_path):\n",
    "    try:\n",
    "        with open(input_path, 'r') as input_file:\n",
    "            data = input_file.read()\n",
    "        \n",
    "        # Process the data as needed (you can add your logic here)\n",
    "        \n",
    "        with open(output_path, 'w') as output_file:\n",
    "            output_file.write(data)\n",
    "    \n",
    "    except FileNotFoundError:\n",
    "        print(\"Error: Input file not found.\")\n",
    "        sys.exit(1)\n",
    "    \n",
    "    except PermissionError:\n",
    "        print(\"Error: Permission denied while writing to the output file.\")\n",
    "        sys.exit(1)\n",
    "    \n",
    "    except Exception as e:\n",
    "        print(f\"An error occurred: {str(e)}\")\n",
    "        sys.exit(1)\n",
    "\n",
    "if __name__ == \"__main__\":\n",
    "    if len(sys.argv) != 3:\n",
    "        print(\"Usage: python program.py <input_file> <output_file>\")\n",
    "        sys.exit(1)\n",
    "    \n",
    "    input_file_path = sys.argv[1]\n",
    "    output_file_path = sys.argv[2]\n",
    "    \n",
    "    process_files(input_file_path, output_file_path)\n"
   ]
  }
 ],
 "metadata": {
  "kernelspec": {
   "display_name": "Python 3 (ipykernel)",
   "language": "python",
   "name": "python3"
  },
  "language_info": {
   "codemirror_mode": {
    "name": "ipython",
    "version": 3
   },
   "file_extension": ".py",
   "mimetype": "text/x-python",
   "name": "python",
   "nbconvert_exporter": "python",
   "pygments_lexer": "ipython3",
   "version": "3.11.5"
  }
 },
 "nbformat": 4,
 "nbformat_minor": 5
}
