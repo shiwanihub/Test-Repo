{
 "cells": [
  {
   "cell_type": "code",
   "execution_count": 11,
   "id": "7e308058-52c8-4722-b5d4-9f7eef820c65",
   "metadata": {},
   "outputs": [],
   "source": [
    "my_list = [1, 2, 3, 4, 5, 6, 7, 8, 9, 10]\n"
   ]
  },
  {
   "cell_type": "code",
   "execution_count": 12,
   "id": "2ab0fca2-81c5-4f80-83e4-d8b9185760aa",
   "metadata": {},
   "outputs": [
    {
     "name": "stdout",
     "output_type": "stream",
     "text": [
      "Last number in the list: 10\n"
     ]
    }
   ],
   "source": [
    "last_number = my_list[-1]\n",
    "print(\"Last number in the list:\", last_number)"
   ]
  },
  {
   "cell_type": "code",
   "execution_count": 13,
   "id": "0cd88cd4-1daf-4a9d-8578-999fc8d93675",
   "metadata": {},
   "outputs": [
    {
     "name": "stdout",
     "output_type": "stream",
     "text": [
      "Values from the list [0:4]: [1, 2, 3, 4]\n"
     ]
    }
   ],
   "source": [
    "subset1 = my_list[0:4]\n",
    "print(\"Values from the list [0:4]:\", subset1)"
   ]
  },
  {
   "cell_type": "code",
   "execution_count": 14,
   "id": "1c6a97b3-b86a-4821-9ce1-d290032219fd",
   "metadata": {},
   "outputs": [
    {
     "name": "stdout",
     "output_type": "stream",
     "text": [
      "Values from the list [2:]: [3, 4, 5, 6, 7, 8, 9, 10]\n"
     ]
    }
   ],
   "source": [
    "subset2 = my_list[2:]\n",
    "print(\"Values from the list [2:]:\", subset2)"
   ]
  },
  {
   "cell_type": "code",
   "execution_count": 15,
   "id": "30cba9d9-a8e3-418a-b2fc-dd51ce0ab5a1",
   "metadata": {},
   "outputs": [
    {
     "name": "stdout",
     "output_type": "stream",
     "text": [
      "Values from the list [:6]: [1, 2, 3, 4, 5, 6]\n"
     ]
    }
   ],
   "source": [
    "subset3 = my_list[:6]\n",
    "print(\"Values from the list [:6]:\", subset3)"
   ]
  },
  {
   "cell_type": "code",
   "execution_count": null,
   "id": "3d487055-2b35-460f-8a1e-71f980f8eea5",
   "metadata": {},
   "outputs": [],
   "source": []
  }
 ],
 "metadata": {
  "kernelspec": {
   "display_name": "Python 3 (ipykernel)",
   "language": "python",
   "name": "python3"
  },
  "language_info": {
   "codemirror_mode": {
    "name": "ipython",
    "version": 3
   },
   "file_extension": ".py",
   "mimetype": "text/x-python",
   "name": "python",
   "nbconvert_exporter": "python",
   "pygments_lexer": "ipython3",
   "version": "3.11.5"
  }
 },
 "nbformat": 4,
 "nbformat_minor": 5
}
